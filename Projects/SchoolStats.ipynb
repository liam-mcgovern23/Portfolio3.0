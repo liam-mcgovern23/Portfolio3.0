{
  "nbformat": 4,
  "nbformat_minor": 0,
  "metadata": {
    "colab": {
      "provenance": []
    },
    "kernelspec": {
      "name": "python3",
      "display_name": "Python 3"
    },
    "language_info": {
      "name": "python"
    }
  },
  "cells": [
    {
      "cell_type": "code",
      "execution_count": 1,
      "metadata": {
        "colab": {
          "base_uri": "https://localhost:8080/",
          "height": 71
        },
        "id": "hbij5VakgL_q",
        "outputId": "a0b571c5-6eb0-4689-979b-c198e82fd601"
      },
      "outputs": [
        {
          "output_type": "display_data",
          "data": {
            "text/plain": [
              "<IPython.core.display.HTML object>"
            ],
            "text/html": [
              "\n",
              "     <input type=\"file\" id=\"files-26fe5e03-8ba8-401d-a81f-396eb0924f36\" name=\"files[]\" multiple disabled\n",
              "        style=\"border:none\" />\n",
              "     <output id=\"result-26fe5e03-8ba8-401d-a81f-396eb0924f36\">\n",
              "      Upload widget is only available when the cell has been executed in the\n",
              "      current browser session. Please rerun this cell to enable.\n",
              "      </output>\n",
              "      <script>// Copyright 2017 Google LLC\n",
              "//\n",
              "// Licensed under the Apache License, Version 2.0 (the \"License\");\n",
              "// you may not use this file except in compliance with the License.\n",
              "// You may obtain a copy of the License at\n",
              "//\n",
              "//      http://www.apache.org/licenses/LICENSE-2.0\n",
              "//\n",
              "// Unless required by applicable law or agreed to in writing, software\n",
              "// distributed under the License is distributed on an \"AS IS\" BASIS,\n",
              "// WITHOUT WARRANTIES OR CONDITIONS OF ANY KIND, either express or implied.\n",
              "// See the License for the specific language governing permissions and\n",
              "// limitations under the License.\n",
              "\n",
              "/**\n",
              " * @fileoverview Helpers for google.colab Python module.\n",
              " */\n",
              "(function(scope) {\n",
              "function span(text, styleAttributes = {}) {\n",
              "  const element = document.createElement('span');\n",
              "  element.textContent = text;\n",
              "  for (const key of Object.keys(styleAttributes)) {\n",
              "    element.style[key] = styleAttributes[key];\n",
              "  }\n",
              "  return element;\n",
              "}\n",
              "\n",
              "// Max number of bytes which will be uploaded at a time.\n",
              "const MAX_PAYLOAD_SIZE = 100 * 1024;\n",
              "\n",
              "function _uploadFiles(inputId, outputId) {\n",
              "  const steps = uploadFilesStep(inputId, outputId);\n",
              "  const outputElement = document.getElementById(outputId);\n",
              "  // Cache steps on the outputElement to make it available for the next call\n",
              "  // to uploadFilesContinue from Python.\n",
              "  outputElement.steps = steps;\n",
              "\n",
              "  return _uploadFilesContinue(outputId);\n",
              "}\n",
              "\n",
              "// This is roughly an async generator (not supported in the browser yet),\n",
              "// where there are multiple asynchronous steps and the Python side is going\n",
              "// to poll for completion of each step.\n",
              "// This uses a Promise to block the python side on completion of each step,\n",
              "// then passes the result of the previous step as the input to the next step.\n",
              "function _uploadFilesContinue(outputId) {\n",
              "  const outputElement = document.getElementById(outputId);\n",
              "  const steps = outputElement.steps;\n",
              "\n",
              "  const next = steps.next(outputElement.lastPromiseValue);\n",
              "  return Promise.resolve(next.value.promise).then((value) => {\n",
              "    // Cache the last promise value to make it available to the next\n",
              "    // step of the generator.\n",
              "    outputElement.lastPromiseValue = value;\n",
              "    return next.value.response;\n",
              "  });\n",
              "}\n",
              "\n",
              "/**\n",
              " * Generator function which is called between each async step of the upload\n",
              " * process.\n",
              " * @param {string} inputId Element ID of the input file picker element.\n",
              " * @param {string} outputId Element ID of the output display.\n",
              " * @return {!Iterable<!Object>} Iterable of next steps.\n",
              " */\n",
              "function* uploadFilesStep(inputId, outputId) {\n",
              "  const inputElement = document.getElementById(inputId);\n",
              "  inputElement.disabled = false;\n",
              "\n",
              "  const outputElement = document.getElementById(outputId);\n",
              "  outputElement.innerHTML = '';\n",
              "\n",
              "  const pickedPromise = new Promise((resolve) => {\n",
              "    inputElement.addEventListener('change', (e) => {\n",
              "      resolve(e.target.files);\n",
              "    });\n",
              "  });\n",
              "\n",
              "  const cancel = document.createElement('button');\n",
              "  inputElement.parentElement.appendChild(cancel);\n",
              "  cancel.textContent = 'Cancel upload';\n",
              "  const cancelPromise = new Promise((resolve) => {\n",
              "    cancel.onclick = () => {\n",
              "      resolve(null);\n",
              "    };\n",
              "  });\n",
              "\n",
              "  // Wait for the user to pick the files.\n",
              "  const files = yield {\n",
              "    promise: Promise.race([pickedPromise, cancelPromise]),\n",
              "    response: {\n",
              "      action: 'starting',\n",
              "    }\n",
              "  };\n",
              "\n",
              "  cancel.remove();\n",
              "\n",
              "  // Disable the input element since further picks are not allowed.\n",
              "  inputElement.disabled = true;\n",
              "\n",
              "  if (!files) {\n",
              "    return {\n",
              "      response: {\n",
              "        action: 'complete',\n",
              "      }\n",
              "    };\n",
              "  }\n",
              "\n",
              "  for (const file of files) {\n",
              "    const li = document.createElement('li');\n",
              "    li.append(span(file.name, {fontWeight: 'bold'}));\n",
              "    li.append(span(\n",
              "        `(${file.type || 'n/a'}) - ${file.size} bytes, ` +\n",
              "        `last modified: ${\n",
              "            file.lastModifiedDate ? file.lastModifiedDate.toLocaleDateString() :\n",
              "                                    'n/a'} - `));\n",
              "    const percent = span('0% done');\n",
              "    li.appendChild(percent);\n",
              "\n",
              "    outputElement.appendChild(li);\n",
              "\n",
              "    const fileDataPromise = new Promise((resolve) => {\n",
              "      const reader = new FileReader();\n",
              "      reader.onload = (e) => {\n",
              "        resolve(e.target.result);\n",
              "      };\n",
              "      reader.readAsArrayBuffer(file);\n",
              "    });\n",
              "    // Wait for the data to be ready.\n",
              "    let fileData = yield {\n",
              "      promise: fileDataPromise,\n",
              "      response: {\n",
              "        action: 'continue',\n",
              "      }\n",
              "    };\n",
              "\n",
              "    // Use a chunked sending to avoid message size limits. See b/62115660.\n",
              "    let position = 0;\n",
              "    do {\n",
              "      const length = Math.min(fileData.byteLength - position, MAX_PAYLOAD_SIZE);\n",
              "      const chunk = new Uint8Array(fileData, position, length);\n",
              "      position += length;\n",
              "\n",
              "      const base64 = btoa(String.fromCharCode.apply(null, chunk));\n",
              "      yield {\n",
              "        response: {\n",
              "          action: 'append',\n",
              "          file: file.name,\n",
              "          data: base64,\n",
              "        },\n",
              "      };\n",
              "\n",
              "      let percentDone = fileData.byteLength === 0 ?\n",
              "          100 :\n",
              "          Math.round((position / fileData.byteLength) * 100);\n",
              "      percent.textContent = `${percentDone}% done`;\n",
              "\n",
              "    } while (position < fileData.byteLength);\n",
              "  }\n",
              "\n",
              "  // All done.\n",
              "  yield {\n",
              "    response: {\n",
              "      action: 'complete',\n",
              "    }\n",
              "  };\n",
              "}\n",
              "\n",
              "scope.google = scope.google || {};\n",
              "scope.google.colab = scope.google.colab || {};\n",
              "scope.google.colab._files = {\n",
              "  _uploadFiles,\n",
              "  _uploadFilesContinue,\n",
              "};\n",
              "})(self);\n",
              "</script> "
            ]
          },
          "metadata": {}
        },
        {
          "output_type": "stream",
          "name": "stdout",
          "text": [
            "Saving Student Attitude and Behavior.csv to Student Attitude and Behavior.csv\n"
          ]
        }
      ],
      "source": [
        "from google.colab import files\n",
        "uploaded = files.upload()"
      ]
    },
    {
      "cell_type": "code",
      "source": [
        "import pandas as pd\n",
        "import matplotlib.pyplot as plt\n",
        "import seaborn as sns"
      ],
      "metadata": {
        "id": "CW69rxLRgWAl"
      },
      "execution_count": 19,
      "outputs": []
    },
    {
      "cell_type": "code",
      "source": [
        "import io\n",
        "df2 = pd.read_csv(io.BytesIO(uploaded['Student Attitude and Behavior.csv']))"
      ],
      "metadata": {
        "id": "U4-8aTp5gWDG"
      },
      "execution_count": 20,
      "outputs": []
    },
    {
      "cell_type": "code",
      "source": [
        "df2"
      ],
      "metadata": {
        "colab": {
          "base_uri": "https://localhost:8080/",
          "height": 756
        },
        "id": "rgBmrgZ6gWFd",
        "outputId": "18bbe518-5c51-46a6-c24d-b3215559836a"
      },
      "execution_count": 21,
      "outputs": [
        {
          "output_type": "execute_result",
          "data": {
            "text/plain": [
              "    Certification Course  Gender Department  Height(CM)  Weight(KG)  \\\n",
              "0                     No    Male        BCA       100.0        58.0   \n",
              "1                     No  Female        BCA        90.0        40.0   \n",
              "2                    Yes    Male        BCA       159.0        78.0   \n",
              "3                    Yes  Female        BCA       147.0        20.0   \n",
              "4                     No    Male        BCA       170.0        54.0   \n",
              "..                   ...     ...        ...         ...         ...   \n",
              "230                  Yes    Male  B.com ISM       170.0        76.0   \n",
              "231                  Yes    Male  B.com ISM       172.0        52.0   \n",
              "232                  Yes  Female        BCA       139.0        33.0   \n",
              "233                  Yes  Female   Commerce       153.0        58.0   \n",
              "234                   No  Female  B.com ISM       155.0        39.0   \n",
              "\n",
              "     10th Mark  12th Mark  college mark        hobbies daily studing time  \\\n",
              "0         79.0       64.0          80.0    Video Games      0 - 30 minute   \n",
              "1         70.0       80.0          70.0         Cinema     30 - 60 minute   \n",
              "2         71.0       61.0          55.0         Cinema         1 - 2 Hour   \n",
              "3         70.0       59.0          58.0  Reading books         1 - 2 Hour   \n",
              "4         40.0       65.0          30.0    Video Games     30 - 60 minute   \n",
              "..         ...        ...           ...            ...                ...   \n",
              "230       72.0       67.0          65.0    Video Games     30 - 60 minute   \n",
              "231       72.0       70.0          76.0         Cinema         2 - 3 hour   \n",
              "232       90.0       75.0          70.0         Cinema     30 - 60 minute   \n",
              "233       85.0       74.0          75.0         Cinema      0 - 30 minute   \n",
              "234       45.0       45.0          50.0         Sports         3 - 4 hour   \n",
              "\n",
              "    prefer to study in  salary expectation Do you like your degree?  \\\n",
              "0              Morning               40000                       No   \n",
              "1              Morning               15000                      Yes   \n",
              "2              Anytime               13000                      Yes   \n",
              "3              Anytime             1500000                       No   \n",
              "4              Morning               50000                      Yes   \n",
              "..                 ...                 ...                      ...   \n",
              "230            Morning                7000                      Yes   \n",
              "231            Anytime               25000                      Yes   \n",
              "232              Night               20000                      Yes   \n",
              "233            Anytime               20000                      Yes   \n",
              "234              Night                  10                       No   \n",
              "\n",
              "    willingness to pursue a career based on their degree    \\\n",
              "0                                                  50%       \n",
              "1                                                  75%       \n",
              "2                                                  50%       \n",
              "3                                                  50%       \n",
              "4                                                  25%       \n",
              "..                                                 ...       \n",
              "230                                                50%       \n",
              "231                                                75%       \n",
              "232                                                50%       \n",
              "233                                                75%       \n",
              "234                                                75%       \n",
              "\n",
              "    social medai & video Travelling Time  Stress Level  Financial Status  \\\n",
              "0          1.30 - 2 hour  30 - 60 minutes           Bad              Bad   \n",
              "1          1 - 1.30 hour   0 - 30 minutes           Bad              Bad   \n",
              "2       More than 2 hour  30 - 60 minutes         Awful              Bad   \n",
              "3          1.30 - 2 hour   0 - 30 minutes           Bad             good   \n",
              "4          1.30 - 2 hour  30 - 60 minutes          Good             good   \n",
              "..                   ...              ...           ...              ...   \n",
              "230     More than 2 hour  30 - 60 minutes           Bad              Bad   \n",
              "231       30 - 60 Minute  30 - 60 minutes          Good             good   \n",
              "232       30 - 60 Minute    2.30 - 3 hour           Bad             good   \n",
              "233     More than 2 hour    2.30 - 3 hour         Awful             good   \n",
              "234       30 - 60 Minute    2.30 - 3 hour      fabulous             good   \n",
              "\n",
              "    part-time job  \n",
              "0              No  \n",
              "1              No  \n",
              "2              No  \n",
              "3              No  \n",
              "4              No  \n",
              "..            ...  \n",
              "230            No  \n",
              "231            No  \n",
              "232            No  \n",
              "233            No  \n",
              "234            No  \n",
              "\n",
              "[235 rows x 19 columns]"
            ],
            "text/html": [
              "\n",
              "  <div id=\"df-a0116f0f-6e6f-41be-84b8-824851fc410b\" class=\"colab-df-container\">\n",
              "    <div>\n",
              "<style scoped>\n",
              "    .dataframe tbody tr th:only-of-type {\n",
              "        vertical-align: middle;\n",
              "    }\n",
              "\n",
              "    .dataframe tbody tr th {\n",
              "        vertical-align: top;\n",
              "    }\n",
              "\n",
              "    .dataframe thead th {\n",
              "        text-align: right;\n",
              "    }\n",
              "</style>\n",
              "<table border=\"1\" class=\"dataframe\">\n",
              "  <thead>\n",
              "    <tr style=\"text-align: right;\">\n",
              "      <th></th>\n",
              "      <th>Certification Course</th>\n",
              "      <th>Gender</th>\n",
              "      <th>Department</th>\n",
              "      <th>Height(CM)</th>\n",
              "      <th>Weight(KG)</th>\n",
              "      <th>10th Mark</th>\n",
              "      <th>12th Mark</th>\n",
              "      <th>college mark</th>\n",
              "      <th>hobbies</th>\n",
              "      <th>daily studing time</th>\n",
              "      <th>prefer to study in</th>\n",
              "      <th>salary expectation</th>\n",
              "      <th>Do you like your degree?</th>\n",
              "      <th>willingness to pursue a career based on their degree</th>\n",
              "      <th>social medai &amp; video</th>\n",
              "      <th>Travelling Time</th>\n",
              "      <th>Stress Level</th>\n",
              "      <th>Financial Status</th>\n",
              "      <th>part-time job</th>\n",
              "    </tr>\n",
              "  </thead>\n",
              "  <tbody>\n",
              "    <tr>\n",
              "      <th>0</th>\n",
              "      <td>No</td>\n",
              "      <td>Male</td>\n",
              "      <td>BCA</td>\n",
              "      <td>100.0</td>\n",
              "      <td>58.0</td>\n",
              "      <td>79.0</td>\n",
              "      <td>64.0</td>\n",
              "      <td>80.0</td>\n",
              "      <td>Video Games</td>\n",
              "      <td>0 - 30 minute</td>\n",
              "      <td>Morning</td>\n",
              "      <td>40000</td>\n",
              "      <td>No</td>\n",
              "      <td>50%</td>\n",
              "      <td>1.30 - 2 hour</td>\n",
              "      <td>30 - 60 minutes</td>\n",
              "      <td>Bad</td>\n",
              "      <td>Bad</td>\n",
              "      <td>No</td>\n",
              "    </tr>\n",
              "    <tr>\n",
              "      <th>1</th>\n",
              "      <td>No</td>\n",
              "      <td>Female</td>\n",
              "      <td>BCA</td>\n",
              "      <td>90.0</td>\n",
              "      <td>40.0</td>\n",
              "      <td>70.0</td>\n",
              "      <td>80.0</td>\n",
              "      <td>70.0</td>\n",
              "      <td>Cinema</td>\n",
              "      <td>30 - 60 minute</td>\n",
              "      <td>Morning</td>\n",
              "      <td>15000</td>\n",
              "      <td>Yes</td>\n",
              "      <td>75%</td>\n",
              "      <td>1 - 1.30 hour</td>\n",
              "      <td>0 - 30 minutes</td>\n",
              "      <td>Bad</td>\n",
              "      <td>Bad</td>\n",
              "      <td>No</td>\n",
              "    </tr>\n",
              "    <tr>\n",
              "      <th>2</th>\n",
              "      <td>Yes</td>\n",
              "      <td>Male</td>\n",
              "      <td>BCA</td>\n",
              "      <td>159.0</td>\n",
              "      <td>78.0</td>\n",
              "      <td>71.0</td>\n",
              "      <td>61.0</td>\n",
              "      <td>55.0</td>\n",
              "      <td>Cinema</td>\n",
              "      <td>1 - 2 Hour</td>\n",
              "      <td>Anytime</td>\n",
              "      <td>13000</td>\n",
              "      <td>Yes</td>\n",
              "      <td>50%</td>\n",
              "      <td>More than 2 hour</td>\n",
              "      <td>30 - 60 minutes</td>\n",
              "      <td>Awful</td>\n",
              "      <td>Bad</td>\n",
              "      <td>No</td>\n",
              "    </tr>\n",
              "    <tr>\n",
              "      <th>3</th>\n",
              "      <td>Yes</td>\n",
              "      <td>Female</td>\n",
              "      <td>BCA</td>\n",
              "      <td>147.0</td>\n",
              "      <td>20.0</td>\n",
              "      <td>70.0</td>\n",
              "      <td>59.0</td>\n",
              "      <td>58.0</td>\n",
              "      <td>Reading books</td>\n",
              "      <td>1 - 2 Hour</td>\n",
              "      <td>Anytime</td>\n",
              "      <td>1500000</td>\n",
              "      <td>No</td>\n",
              "      <td>50%</td>\n",
              "      <td>1.30 - 2 hour</td>\n",
              "      <td>0 - 30 minutes</td>\n",
              "      <td>Bad</td>\n",
              "      <td>good</td>\n",
              "      <td>No</td>\n",
              "    </tr>\n",
              "    <tr>\n",
              "      <th>4</th>\n",
              "      <td>No</td>\n",
              "      <td>Male</td>\n",
              "      <td>BCA</td>\n",
              "      <td>170.0</td>\n",
              "      <td>54.0</td>\n",
              "      <td>40.0</td>\n",
              "      <td>65.0</td>\n",
              "      <td>30.0</td>\n",
              "      <td>Video Games</td>\n",
              "      <td>30 - 60 minute</td>\n",
              "      <td>Morning</td>\n",
              "      <td>50000</td>\n",
              "      <td>Yes</td>\n",
              "      <td>25%</td>\n",
              "      <td>1.30 - 2 hour</td>\n",
              "      <td>30 - 60 minutes</td>\n",
              "      <td>Good</td>\n",
              "      <td>good</td>\n",
              "      <td>No</td>\n",
              "    </tr>\n",
              "    <tr>\n",
              "      <th>...</th>\n",
              "      <td>...</td>\n",
              "      <td>...</td>\n",
              "      <td>...</td>\n",
              "      <td>...</td>\n",
              "      <td>...</td>\n",
              "      <td>...</td>\n",
              "      <td>...</td>\n",
              "      <td>...</td>\n",
              "      <td>...</td>\n",
              "      <td>...</td>\n",
              "      <td>...</td>\n",
              "      <td>...</td>\n",
              "      <td>...</td>\n",
              "      <td>...</td>\n",
              "      <td>...</td>\n",
              "      <td>...</td>\n",
              "      <td>...</td>\n",
              "      <td>...</td>\n",
              "      <td>...</td>\n",
              "    </tr>\n",
              "    <tr>\n",
              "      <th>230</th>\n",
              "      <td>Yes</td>\n",
              "      <td>Male</td>\n",
              "      <td>B.com ISM</td>\n",
              "      <td>170.0</td>\n",
              "      <td>76.0</td>\n",
              "      <td>72.0</td>\n",
              "      <td>67.0</td>\n",
              "      <td>65.0</td>\n",
              "      <td>Video Games</td>\n",
              "      <td>30 - 60 minute</td>\n",
              "      <td>Morning</td>\n",
              "      <td>7000</td>\n",
              "      <td>Yes</td>\n",
              "      <td>50%</td>\n",
              "      <td>More than 2 hour</td>\n",
              "      <td>30 - 60 minutes</td>\n",
              "      <td>Bad</td>\n",
              "      <td>Bad</td>\n",
              "      <td>No</td>\n",
              "    </tr>\n",
              "    <tr>\n",
              "      <th>231</th>\n",
              "      <td>Yes</td>\n",
              "      <td>Male</td>\n",
              "      <td>B.com ISM</td>\n",
              "      <td>172.0</td>\n",
              "      <td>52.0</td>\n",
              "      <td>72.0</td>\n",
              "      <td>70.0</td>\n",
              "      <td>76.0</td>\n",
              "      <td>Cinema</td>\n",
              "      <td>2 - 3 hour</td>\n",
              "      <td>Anytime</td>\n",
              "      <td>25000</td>\n",
              "      <td>Yes</td>\n",
              "      <td>75%</td>\n",
              "      <td>30 - 60 Minute</td>\n",
              "      <td>30 - 60 minutes</td>\n",
              "      <td>Good</td>\n",
              "      <td>good</td>\n",
              "      <td>No</td>\n",
              "    </tr>\n",
              "    <tr>\n",
              "      <th>232</th>\n",
              "      <td>Yes</td>\n",
              "      <td>Female</td>\n",
              "      <td>BCA</td>\n",
              "      <td>139.0</td>\n",
              "      <td>33.0</td>\n",
              "      <td>90.0</td>\n",
              "      <td>75.0</td>\n",
              "      <td>70.0</td>\n",
              "      <td>Cinema</td>\n",
              "      <td>30 - 60 minute</td>\n",
              "      <td>Night</td>\n",
              "      <td>20000</td>\n",
              "      <td>Yes</td>\n",
              "      <td>50%</td>\n",
              "      <td>30 - 60 Minute</td>\n",
              "      <td>2.30 - 3 hour</td>\n",
              "      <td>Bad</td>\n",
              "      <td>good</td>\n",
              "      <td>No</td>\n",
              "    </tr>\n",
              "    <tr>\n",
              "      <th>233</th>\n",
              "      <td>Yes</td>\n",
              "      <td>Female</td>\n",
              "      <td>Commerce</td>\n",
              "      <td>153.0</td>\n",
              "      <td>58.0</td>\n",
              "      <td>85.0</td>\n",
              "      <td>74.0</td>\n",
              "      <td>75.0</td>\n",
              "      <td>Cinema</td>\n",
              "      <td>0 - 30 minute</td>\n",
              "      <td>Anytime</td>\n",
              "      <td>20000</td>\n",
              "      <td>Yes</td>\n",
              "      <td>75%</td>\n",
              "      <td>More than 2 hour</td>\n",
              "      <td>2.30 - 3 hour</td>\n",
              "      <td>Awful</td>\n",
              "      <td>good</td>\n",
              "      <td>No</td>\n",
              "    </tr>\n",
              "    <tr>\n",
              "      <th>234</th>\n",
              "      <td>No</td>\n",
              "      <td>Female</td>\n",
              "      <td>B.com ISM</td>\n",
              "      <td>155.0</td>\n",
              "      <td>39.0</td>\n",
              "      <td>45.0</td>\n",
              "      <td>45.0</td>\n",
              "      <td>50.0</td>\n",
              "      <td>Sports</td>\n",
              "      <td>3 - 4 hour</td>\n",
              "      <td>Night</td>\n",
              "      <td>10</td>\n",
              "      <td>No</td>\n",
              "      <td>75%</td>\n",
              "      <td>30 - 60 Minute</td>\n",
              "      <td>2.30 - 3 hour</td>\n",
              "      <td>fabulous</td>\n",
              "      <td>good</td>\n",
              "      <td>No</td>\n",
              "    </tr>\n",
              "  </tbody>\n",
              "</table>\n",
              "<p>235 rows × 19 columns</p>\n",
              "</div>\n",
              "    <div class=\"colab-df-buttons\">\n",
              "\n",
              "  <div class=\"colab-df-container\">\n",
              "    <button class=\"colab-df-convert\" onclick=\"convertToInteractive('df-a0116f0f-6e6f-41be-84b8-824851fc410b')\"\n",
              "            title=\"Convert this dataframe to an interactive table.\"\n",
              "            style=\"display:none;\">\n",
              "\n",
              "  <svg xmlns=\"http://www.w3.org/2000/svg\" height=\"24px\" viewBox=\"0 -960 960 960\">\n",
              "    <path d=\"M120-120v-720h720v720H120Zm60-500h600v-160H180v160Zm220 220h160v-160H400v160Zm0 220h160v-160H400v160ZM180-400h160v-160H180v160Zm440 0h160v-160H620v160ZM180-180h160v-160H180v160Zm440 0h160v-160H620v160Z\"/>\n",
              "  </svg>\n",
              "    </button>\n",
              "\n",
              "  <style>\n",
              "    .colab-df-container {\n",
              "      display:flex;\n",
              "      gap: 12px;\n",
              "    }\n",
              "\n",
              "    .colab-df-convert {\n",
              "      background-color: #E8F0FE;\n",
              "      border: none;\n",
              "      border-radius: 50%;\n",
              "      cursor: pointer;\n",
              "      display: none;\n",
              "      fill: #1967D2;\n",
              "      height: 32px;\n",
              "      padding: 0 0 0 0;\n",
              "      width: 32px;\n",
              "    }\n",
              "\n",
              "    .colab-df-convert:hover {\n",
              "      background-color: #E2EBFA;\n",
              "      box-shadow: 0px 1px 2px rgba(60, 64, 67, 0.3), 0px 1px 3px 1px rgba(60, 64, 67, 0.15);\n",
              "      fill: #174EA6;\n",
              "    }\n",
              "\n",
              "    .colab-df-buttons div {\n",
              "      margin-bottom: 4px;\n",
              "    }\n",
              "\n",
              "    [theme=dark] .colab-df-convert {\n",
              "      background-color: #3B4455;\n",
              "      fill: #D2E3FC;\n",
              "    }\n",
              "\n",
              "    [theme=dark] .colab-df-convert:hover {\n",
              "      background-color: #434B5C;\n",
              "      box-shadow: 0px 1px 3px 1px rgba(0, 0, 0, 0.15);\n",
              "      filter: drop-shadow(0px 1px 2px rgba(0, 0, 0, 0.3));\n",
              "      fill: #FFFFFF;\n",
              "    }\n",
              "  </style>\n",
              "\n",
              "    <script>\n",
              "      const buttonEl =\n",
              "        document.querySelector('#df-a0116f0f-6e6f-41be-84b8-824851fc410b button.colab-df-convert');\n",
              "      buttonEl.style.display =\n",
              "        google.colab.kernel.accessAllowed ? 'block' : 'none';\n",
              "\n",
              "      async function convertToInteractive(key) {\n",
              "        const element = document.querySelector('#df-a0116f0f-6e6f-41be-84b8-824851fc410b');\n",
              "        const dataTable =\n",
              "          await google.colab.kernel.invokeFunction('convertToInteractive',\n",
              "                                                    [key], {});\n",
              "        if (!dataTable) return;\n",
              "\n",
              "        const docLinkHtml = 'Like what you see? Visit the ' +\n",
              "          '<a target=\"_blank\" href=https://colab.research.google.com/notebooks/data_table.ipynb>data table notebook</a>'\n",
              "          + ' to learn more about interactive tables.';\n",
              "        element.innerHTML = '';\n",
              "        dataTable['output_type'] = 'display_data';\n",
              "        await google.colab.output.renderOutput(dataTable, element);\n",
              "        const docLink = document.createElement('div');\n",
              "        docLink.innerHTML = docLinkHtml;\n",
              "        element.appendChild(docLink);\n",
              "      }\n",
              "    </script>\n",
              "  </div>\n",
              "\n",
              "\n",
              "<div id=\"df-bf5d9771-9671-4b4e-9b93-67caa4fafe30\">\n",
              "  <button class=\"colab-df-quickchart\" onclick=\"quickchart('df-bf5d9771-9671-4b4e-9b93-67caa4fafe30')\"\n",
              "            title=\"Suggest charts\"\n",
              "            style=\"display:none;\">\n",
              "\n",
              "<svg xmlns=\"http://www.w3.org/2000/svg\" height=\"24px\"viewBox=\"0 0 24 24\"\n",
              "     width=\"24px\">\n",
              "    <g>\n",
              "        <path d=\"M19 3H5c-1.1 0-2 .9-2 2v14c0 1.1.9 2 2 2h14c1.1 0 2-.9 2-2V5c0-1.1-.9-2-2-2zM9 17H7v-7h2v7zm4 0h-2V7h2v10zm4 0h-2v-4h2v4z\"/>\n",
              "    </g>\n",
              "</svg>\n",
              "  </button>\n",
              "\n",
              "<style>\n",
              "  .colab-df-quickchart {\n",
              "      --bg-color: #E8F0FE;\n",
              "      --fill-color: #1967D2;\n",
              "      --hover-bg-color: #E2EBFA;\n",
              "      --hover-fill-color: #174EA6;\n",
              "      --disabled-fill-color: #AAA;\n",
              "      --disabled-bg-color: #DDD;\n",
              "  }\n",
              "\n",
              "  [theme=dark] .colab-df-quickchart {\n",
              "      --bg-color: #3B4455;\n",
              "      --fill-color: #D2E3FC;\n",
              "      --hover-bg-color: #434B5C;\n",
              "      --hover-fill-color: #FFFFFF;\n",
              "      --disabled-bg-color: #3B4455;\n",
              "      --disabled-fill-color: #666;\n",
              "  }\n",
              "\n",
              "  .colab-df-quickchart {\n",
              "    background-color: var(--bg-color);\n",
              "    border: none;\n",
              "    border-radius: 50%;\n",
              "    cursor: pointer;\n",
              "    display: none;\n",
              "    fill: var(--fill-color);\n",
              "    height: 32px;\n",
              "    padding: 0;\n",
              "    width: 32px;\n",
              "  }\n",
              "\n",
              "  .colab-df-quickchart:hover {\n",
              "    background-color: var(--hover-bg-color);\n",
              "    box-shadow: 0 1px 2px rgba(60, 64, 67, 0.3), 0 1px 3px 1px rgba(60, 64, 67, 0.15);\n",
              "    fill: var(--button-hover-fill-color);\n",
              "  }\n",
              "\n",
              "  .colab-df-quickchart-complete:disabled,\n",
              "  .colab-df-quickchart-complete:disabled:hover {\n",
              "    background-color: var(--disabled-bg-color);\n",
              "    fill: var(--disabled-fill-color);\n",
              "    box-shadow: none;\n",
              "  }\n",
              "\n",
              "  .colab-df-spinner {\n",
              "    border: 2px solid var(--fill-color);\n",
              "    border-color: transparent;\n",
              "    border-bottom-color: var(--fill-color);\n",
              "    animation:\n",
              "      spin 1s steps(1) infinite;\n",
              "  }\n",
              "\n",
              "  @keyframes spin {\n",
              "    0% {\n",
              "      border-color: transparent;\n",
              "      border-bottom-color: var(--fill-color);\n",
              "      border-left-color: var(--fill-color);\n",
              "    }\n",
              "    20% {\n",
              "      border-color: transparent;\n",
              "      border-left-color: var(--fill-color);\n",
              "      border-top-color: var(--fill-color);\n",
              "    }\n",
              "    30% {\n",
              "      border-color: transparent;\n",
              "      border-left-color: var(--fill-color);\n",
              "      border-top-color: var(--fill-color);\n",
              "      border-right-color: var(--fill-color);\n",
              "    }\n",
              "    40% {\n",
              "      border-color: transparent;\n",
              "      border-right-color: var(--fill-color);\n",
              "      border-top-color: var(--fill-color);\n",
              "    }\n",
              "    60% {\n",
              "      border-color: transparent;\n",
              "      border-right-color: var(--fill-color);\n",
              "    }\n",
              "    80% {\n",
              "      border-color: transparent;\n",
              "      border-right-color: var(--fill-color);\n",
              "      border-bottom-color: var(--fill-color);\n",
              "    }\n",
              "    90% {\n",
              "      border-color: transparent;\n",
              "      border-bottom-color: var(--fill-color);\n",
              "    }\n",
              "  }\n",
              "</style>\n",
              "\n",
              "  <script>\n",
              "    async function quickchart(key) {\n",
              "      const quickchartButtonEl =\n",
              "        document.querySelector('#' + key + ' button');\n",
              "      quickchartButtonEl.disabled = true;  // To prevent multiple clicks.\n",
              "      quickchartButtonEl.classList.add('colab-df-spinner');\n",
              "      try {\n",
              "        const charts = await google.colab.kernel.invokeFunction(\n",
              "            'suggestCharts', [key], {});\n",
              "      } catch (error) {\n",
              "        console.error('Error during call to suggestCharts:', error);\n",
              "      }\n",
              "      quickchartButtonEl.classList.remove('colab-df-spinner');\n",
              "      quickchartButtonEl.classList.add('colab-df-quickchart-complete');\n",
              "    }\n",
              "    (() => {\n",
              "      let quickchartButtonEl =\n",
              "        document.querySelector('#df-bf5d9771-9671-4b4e-9b93-67caa4fafe30 button');\n",
              "      quickchartButtonEl.style.display =\n",
              "        google.colab.kernel.accessAllowed ? 'block' : 'none';\n",
              "    })();\n",
              "  </script>\n",
              "</div>\n",
              "    </div>\n",
              "  </div>\n"
            ],
            "application/vnd.google.colaboratory.intrinsic+json": {
              "type": "dataframe",
              "variable_name": "df2",
              "summary": "{\n  \"name\": \"df2\",\n  \"rows\": 235,\n  \"fields\": [\n    {\n      \"column\": \"Certification Course\",\n      \"properties\": {\n        \"dtype\": \"category\",\n        \"num_unique_values\": 2,\n        \"samples\": [\n          \"Yes\",\n          \"No\"\n        ],\n        \"semantic_type\": \"\",\n        \"description\": \"\"\n      }\n    },\n    {\n      \"column\": \"Gender\",\n      \"properties\": {\n        \"dtype\": \"category\",\n        \"num_unique_values\": 2,\n        \"samples\": [\n          \"Female\",\n          \"Male\"\n        ],\n        \"semantic_type\": \"\",\n        \"description\": \"\"\n      }\n    },\n    {\n      \"column\": \"Department\",\n      \"properties\": {\n        \"dtype\": \"category\",\n        \"num_unique_values\": 4,\n        \"samples\": [\n          \"Commerce\",\n          \"B.com ISM\"\n        ],\n        \"semantic_type\": \"\",\n        \"description\": \"\"\n      }\n    },\n    {\n      \"column\": \"Height(CM)\",\n      \"properties\": {\n        \"dtype\": \"number\",\n        \"std\": 21.510805169576113,\n        \"min\": 4.5,\n        \"max\": 192.0,\n        \"num_unique_values\": 56,\n        \"samples\": [\n          100.0,\n          139.0\n        ],\n        \"semantic_type\": \"\",\n        \"description\": \"\"\n      }\n    },\n    {\n      \"column\": \"Weight(KG)\",\n      \"properties\": {\n        \"dtype\": \"number\",\n        \"std\": 14.895844449081954,\n        \"min\": 20.0,\n        \"max\": 106.0,\n        \"num_unique_values\": 52,\n        \"samples\": [\n          73.0,\n          91.0\n        ],\n        \"semantic_type\": \"\",\n        \"description\": \"\"\n      }\n    },\n    {\n      \"column\": \"10th Mark\",\n      \"properties\": {\n        \"dtype\": \"number\",\n        \"std\": 13.047560432602246,\n        \"min\": 7.4,\n        \"max\": 98.0,\n        \"num_unique_values\": 67,\n        \"samples\": [\n          91.0,\n          78.0\n        ],\n        \"semantic_type\": \"\",\n        \"description\": \"\"\n      }\n    },\n    {\n      \"column\": \"12th Mark\",\n      \"properties\": {\n        \"dtype\": \"number\",\n        \"std\": 11.018192317682848,\n        \"min\": 45.0,\n        \"max\": 94.0,\n        \"num_unique_values\": 67,\n        \"samples\": [\n          58.0,\n          60.0\n        ],\n        \"semantic_type\": \"\",\n        \"description\": \"\"\n      }\n    },\n    {\n      \"column\": \"college mark\",\n      \"properties\": {\n        \"dtype\": \"number\",\n        \"std\": 15.727446316595373,\n        \"min\": 1.0,\n        \"max\": 100.0,\n        \"num_unique_values\": 43,\n        \"samples\": [\n          91.0,\n          79.5\n        ],\n        \"semantic_type\": \"\",\n        \"description\": \"\"\n      }\n    },\n    {\n      \"column\": \"hobbies\",\n      \"properties\": {\n        \"dtype\": \"category\",\n        \"num_unique_values\": 4,\n        \"samples\": [\n          \"Cinema\",\n          \"Sports\"\n        ],\n        \"semantic_type\": \"\",\n        \"description\": \"\"\n      }\n    },\n    {\n      \"column\": \"daily studing time\",\n      \"properties\": {\n        \"dtype\": \"category\",\n        \"num_unique_values\": 6,\n        \"samples\": [\n          \"0 - 30 minute\",\n          \"30 - 60 minute\"\n        ],\n        \"semantic_type\": \"\",\n        \"description\": \"\"\n      }\n    },\n    {\n      \"column\": \"prefer to study in\",\n      \"properties\": {\n        \"dtype\": \"category\",\n        \"num_unique_values\": 3,\n        \"samples\": [\n          \"Morning\",\n          \"Anytime\"\n        ],\n        \"semantic_type\": \"\",\n        \"description\": \"\"\n      }\n    },\n    {\n      \"column\": \"salary expectation\",\n      \"properties\": {\n        \"dtype\": \"number\",\n        \"std\": 111314,\n        \"min\": 0,\n        \"max\": 1500000,\n        \"num_unique_values\": 34,\n        \"samples\": [\n          8000,\n          16000\n        ],\n        \"semantic_type\": \"\",\n        \"description\": \"\"\n      }\n    },\n    {\n      \"column\": \"Do you like your degree?\",\n      \"properties\": {\n        \"dtype\": \"category\",\n        \"num_unique_values\": 2,\n        \"samples\": [\n          \"Yes\",\n          \"No\"\n        ],\n        \"semantic_type\": \"\",\n        \"description\": \"\"\n      }\n    },\n    {\n      \"column\": \"willingness to pursue a career based on their degree  \",\n      \"properties\": {\n        \"dtype\": \"category\",\n        \"num_unique_values\": 5,\n        \"samples\": [\n          \"75%\",\n          \"0%\"\n        ],\n        \"semantic_type\": \"\",\n        \"description\": \"\"\n      }\n    },\n    {\n      \"column\": \"social medai & video\",\n      \"properties\": {\n        \"dtype\": \"category\",\n        \"num_unique_values\": 6,\n        \"samples\": [\n          \"1.30 - 2 hour\",\n          \"1 - 1.30 hour\"\n        ],\n        \"semantic_type\": \"\",\n        \"description\": \"\"\n      }\n    },\n    {\n      \"column\": \"Travelling Time \",\n      \"properties\": {\n        \"dtype\": \"category\",\n        \"num_unique_values\": 7,\n        \"samples\": [\n          \"30 - 60 minutes\",\n          \"0 - 30 minutes\"\n        ],\n        \"semantic_type\": \"\",\n        \"description\": \"\"\n      }\n    },\n    {\n      \"column\": \"Stress Level \",\n      \"properties\": {\n        \"dtype\": \"category\",\n        \"num_unique_values\": 4,\n        \"samples\": [\n          \"Awful\",\n          \"fabulous\"\n        ],\n        \"semantic_type\": \"\",\n        \"description\": \"\"\n      }\n    },\n    {\n      \"column\": \"Financial Status\",\n      \"properties\": {\n        \"dtype\": \"category\",\n        \"num_unique_values\": 4,\n        \"samples\": [\n          \"good\",\n          \"Fabulous\"\n        ],\n        \"semantic_type\": \"\",\n        \"description\": \"\"\n      }\n    },\n    {\n      \"column\": \"part-time job\",\n      \"properties\": {\n        \"dtype\": \"category\",\n        \"num_unique_values\": 2,\n        \"samples\": [\n          \"Yes\",\n          \"No\"\n        ],\n        \"semantic_type\": \"\",\n        \"description\": \"\"\n      }\n    }\n  ]\n}"
            }
          },
          "metadata": {},
          "execution_count": 21
        }
      ]
    },
    {
      "cell_type": "code",
      "source": [
        "# Display the first few rows of the DataFrame\n",
        "print(df2.head())\n"
      ],
      "metadata": {
        "colab": {
          "base_uri": "https://localhost:8080/"
        },
        "id": "zqPv6QpegWIE",
        "outputId": "41101a02-7c46-4a40-9382-8b8215276c26"
      },
      "execution_count": 22,
      "outputs": [
        {
          "output_type": "stream",
          "name": "stdout",
          "text": [
            "  Certification Course  Gender Department  Height(CM)  Weight(KG)  10th Mark  \\\n",
            "0                   No    Male        BCA       100.0        58.0       79.0   \n",
            "1                   No  Female        BCA        90.0        40.0       70.0   \n",
            "2                  Yes    Male        BCA       159.0        78.0       71.0   \n",
            "3                  Yes  Female        BCA       147.0        20.0       70.0   \n",
            "4                   No    Male        BCA       170.0        54.0       40.0   \n",
            "\n",
            "   12th Mark  college mark        hobbies daily studing time  \\\n",
            "0       64.0          80.0    Video Games      0 - 30 minute   \n",
            "1       80.0          70.0         Cinema     30 - 60 minute   \n",
            "2       61.0          55.0         Cinema         1 - 2 Hour   \n",
            "3       59.0          58.0  Reading books         1 - 2 Hour   \n",
            "4       65.0          30.0    Video Games     30 - 60 minute   \n",
            "\n",
            "  prefer to study in  salary expectation Do you like your degree?  \\\n",
            "0            Morning               40000                       No   \n",
            "1            Morning               15000                      Yes   \n",
            "2            Anytime               13000                      Yes   \n",
            "3            Anytime             1500000                       No   \n",
            "4            Morning               50000                      Yes   \n",
            "\n",
            "  willingness to pursue a career based on their degree   social medai & video  \\\n",
            "0                                                50%            1.30 - 2 hour   \n",
            "1                                                75%            1 - 1.30 hour   \n",
            "2                                                50%         More than 2 hour   \n",
            "3                                                50%            1.30 - 2 hour   \n",
            "4                                                25%            1.30 - 2 hour   \n",
            "\n",
            "  Travelling Time  Stress Level  Financial Status part-time job  \n",
            "0  30 - 60 minutes           Bad              Bad            No  \n",
            "1   0 - 30 minutes           Bad              Bad            No  \n",
            "2  30 - 60 minutes         Awful              Bad            No  \n",
            "3   0 - 30 minutes           Bad             good            No  \n",
            "4  30 - 60 minutes          Good             good            No  \n"
          ]
        }
      ]
    },
    {
      "cell_type": "code",
      "source": [
        "# shape (number of rows and columns)\n",
        "print(df2.shape)"
      ],
      "metadata": {
        "colab": {
          "base_uri": "https://localhost:8080/"
        },
        "id": "Zl1lwTT0gWKq",
        "outputId": "758c5497-455c-4177-be62-815c37712ba2"
      },
      "execution_count": 8,
      "outputs": [
        {
          "output_type": "stream",
          "name": "stdout",
          "text": [
            "(235, 19)\n"
          ]
        }
      ]
    },
    {
      "cell_type": "code",
      "source": [
        "# types of columns and non-null values\n",
        "print(df2.info())"
      ],
      "metadata": {
        "colab": {
          "base_uri": "https://localhost:8080/"
        },
        "id": "dJpptC4PgWM_",
        "outputId": "786467ed-6397-44d5-b932-8dbd2eaf1cc3"
      },
      "execution_count": 23,
      "outputs": [
        {
          "output_type": "stream",
          "name": "stdout",
          "text": [
            "<class 'pandas.core.frame.DataFrame'>\n",
            "RangeIndex: 235 entries, 0 to 234\n",
            "Data columns (total 19 columns):\n",
            " #   Column                                                  Non-Null Count  Dtype  \n",
            "---  ------                                                  --------------  -----  \n",
            " 0   Certification Course                                    235 non-null    object \n",
            " 1   Gender                                                  235 non-null    object \n",
            " 2   Department                                              235 non-null    object \n",
            " 3   Height(CM)                                              235 non-null    float64\n",
            " 4   Weight(KG)                                              235 non-null    float64\n",
            " 5   10th Mark                                               235 non-null    float64\n",
            " 6   12th Mark                                               235 non-null    float64\n",
            " 7   college mark                                            235 non-null    float64\n",
            " 8   hobbies                                                 235 non-null    object \n",
            " 9   daily studing time                                      235 non-null    object \n",
            " 10  prefer to study in                                      235 non-null    object \n",
            " 11  salary expectation                                      235 non-null    int64  \n",
            " 12  Do you like your degree?                                235 non-null    object \n",
            " 13  willingness to pursue a career based on their degree    235 non-null    object \n",
            " 14  social medai & video                                    235 non-null    object \n",
            " 15  Travelling Time                                         235 non-null    object \n",
            " 16  Stress Level                                            235 non-null    object \n",
            " 17  Financial Status                                        235 non-null    object \n",
            " 18  part-time job                                           235 non-null    object \n",
            "dtypes: float64(5), int64(1), object(13)\n",
            "memory usage: 35.0+ KB\n",
            "None\n"
          ]
        }
      ]
    },
    {
      "cell_type": "code",
      "source": [
        "# descriptive statistics for numeric columns\n",
        "print(df2.describe())"
      ],
      "metadata": {
        "colab": {
          "base_uri": "https://localhost:8080/"
        },
        "id": "52_WJEVBgWPm",
        "outputId": "71fc272a-10c4-4e9f-dbce-9c72eb906f0e"
      },
      "execution_count": 11,
      "outputs": [
        {
          "output_type": "stream",
          "name": "stdout",
          "text": [
            "       Height(CM)  Weight(KG)   10th Mark   12th Mark  college mark  \\\n",
            "count  235.000000  235.000000  235.000000  235.000000    235.000000   \n",
            "mean   157.402128   60.803830   76.848511   68.775872     70.660553   \n",
            "std     21.510805   14.895844   13.047560   11.018192     15.727446   \n",
            "min      4.500000   20.000000    7.400000   45.000000      1.000000   \n",
            "25%    152.000000   50.000000   70.000000   60.000000     60.000000   \n",
            "50%    160.000000   60.000000   80.000000   69.000000     70.000000   \n",
            "75%    170.000000   70.000000   86.250000   76.000000     80.000000   \n",
            "max    192.000000  106.000000   98.000000   94.000000    100.000000   \n",
            "\n",
            "       salary expectation  \n",
            "count        2.350000e+02  \n",
            "mean         3.248168e+04  \n",
            "std          1.113146e+05  \n",
            "min          0.000000e+00  \n",
            "25%          1.500000e+04  \n",
            "50%          2.000000e+04  \n",
            "75%          2.500000e+04  \n",
            "max          1.500000e+06  \n"
          ]
        }
      ]
    },
    {
      "cell_type": "code",
      "source": [
        "# Check for missing values\n",
        "print(df2.isnull().sum())"
      ],
      "metadata": {
        "colab": {
          "base_uri": "https://localhost:8080/"
        },
        "id": "p8BbGFkRgWSO",
        "outputId": "1b847765-7748-4ffc-932b-1da5632d4d05"
      },
      "execution_count": 12,
      "outputs": [
        {
          "output_type": "stream",
          "name": "stdout",
          "text": [
            "Certification Course                                      0\n",
            "Gender                                                    0\n",
            "Department                                                0\n",
            "Height(CM)                                                0\n",
            "Weight(KG)                                                0\n",
            "10th Mark                                                 0\n",
            "12th Mark                                                 0\n",
            "college mark                                              0\n",
            "hobbies                                                   0\n",
            "daily studing time                                        0\n",
            "prefer to study in                                        0\n",
            "salary expectation                                        0\n",
            "Do you like your degree?                                  0\n",
            "willingness to pursue a career based on their degree      0\n",
            "social medai & video                                      0\n",
            "Travelling Time                                           0\n",
            "Stress Level                                              0\n",
            "Financial Status                                          0\n",
            "part-time job                                             0\n",
            "dtype: int64\n"
          ]
        }
      ]
    },
    {
      "cell_type": "code",
      "source": [
        "# all column names to lowercase\n",
        "df2.columns = df2.columns.str.lower()\n"
      ],
      "metadata": {
        "id": "FTuSyBDjjlFz"
      },
      "execution_count": 25,
      "outputs": []
    },
    {
      "cell_type": "code",
      "source": [
        "# Display the new column names to verify the changes\n",
        "print(df2.columns)"
      ],
      "metadata": {
        "colab": {
          "base_uri": "https://localhost:8080/"
        },
        "id": "SOjcMtt8jlaJ",
        "outputId": "dee2cbbc-6e52-4d47-d31b-b1e12eb0d816"
      },
      "execution_count": 26,
      "outputs": [
        {
          "output_type": "stream",
          "name": "stdout",
          "text": [
            "Index(['certification course', 'gender', 'department', 'height(cm)',\n",
            "       'weight(kg)', '10th mark', '12th mark', 'college mark', 'hobbies',\n",
            "       'daily studing time', 'prefer to study in', 'salary expectation',\n",
            "       'do you like your degree?',\n",
            "       'willingness to pursue a career based on their degree  ',\n",
            "       'social medai & video', 'travelling time ', 'stress level ',\n",
            "       'financial status', 'part-time job'],\n",
            "      dtype='object')\n"
          ]
        }
      ]
    },
    {
      "cell_type": "code",
      "source": [
        "# Summary statistics\n",
        "print(df2.describe())"
      ],
      "metadata": {
        "colab": {
          "base_uri": "https://localhost:8080/"
        },
        "id": "fYK_O6wvjldA",
        "outputId": "c5ada89c-9075-4170-cef9-876767d6ab16"
      },
      "execution_count": 27,
      "outputs": [
        {
          "output_type": "stream",
          "name": "stdout",
          "text": [
            "       height(cm)  weight(kg)   10th mark   12th mark  college mark  \\\n",
            "count  235.000000  235.000000  235.000000  235.000000    235.000000   \n",
            "mean   157.402128   60.803830   76.848511   68.775872     70.660553   \n",
            "std     21.510805   14.895844   13.047560   11.018192     15.727446   \n",
            "min      4.500000   20.000000    7.400000   45.000000      1.000000   \n",
            "25%    152.000000   50.000000   70.000000   60.000000     60.000000   \n",
            "50%    160.000000   60.000000   80.000000   69.000000     70.000000   \n",
            "75%    170.000000   70.000000   86.250000   76.000000     80.000000   \n",
            "max    192.000000  106.000000   98.000000   94.000000    100.000000   \n",
            "\n",
            "       salary expectation  \n",
            "count        2.350000e+02  \n",
            "mean         3.248168e+04  \n",
            "std          1.113146e+05  \n",
            "min          0.000000e+00  \n",
            "25%          1.500000e+04  \n",
            "50%          2.000000e+04  \n",
            "75%          2.500000e+04  \n",
            "max          1.500000e+06  \n"
          ]
        }
      ]
    },
    {
      "source": [
        "# gender & department\n",
        "\n",
        "from matplotlib import pyplot as plt\n",
        "import seaborn as sns\n",
        "import pandas as pd\n",
        "plt.subplots(figsize=(8, 8))\n",
        "df_2dhist = pd.DataFrame({\n",
        "    x_label: grp['department'].value_counts()\n",
        "    for x_label, grp in df2.groupby('gender')\n",
        "})\n",
        "sns.heatmap(df_2dhist, cmap='viridis')\n",
        "plt.xlabel('gender')\n",
        "_ = plt.ylabel('department')"
      ],
      "cell_type": "code",
      "execution_count": 32,
      "outputs": [
        {
          "output_type": "display_data",
          "data": {
            "text/plain": [
              "<Figure size 800x800 with 2 Axes>"
            ],
            "image/png": "[encoded data removed]"
          },
          "metadata": {}
        }
      ],
      "metadata": {
        "colab": {
          "base_uri": "https://localhost:8080/",
          "height": 728
        },
        "id": "9QKzk-tllSbG",
        "outputId": "7749a286-ca46-46e2-af49-3dc591911901"
      }
    },
    {
      "source": [
        "#  height(cm) vs weight(kg)\n",
        "\n",
        "from matplotlib import pyplot as plt\n",
        "df2.plot(kind='scatter', x='height(cm)', y='weight(kg)', s=32, alpha=.8)\n",
        "plt.gca().spines[['top', 'right',]].set_visible(False)"
      ],
      "cell_type": "code",
      "execution_count": 30,
      "outputs": [
        {
          "output_type": "display_data",
          "data": {
            "text/plain": [
              "<Figure size 640x480 with 1 Axes>"
            ],
            "image/png": "[encoded data removed]"
          },
          "metadata": {}
        }
      ],
      "metadata": {
        "colab": {
          "base_uri": "https://localhost:8080/",
          "height": 449
        },
        "id": "TZNrd91zlHCJ",
        "outputId": "165a3bc9-ebf3-4703-f83d-fbcee07d4895"
      }
    },
    {
      "source": [
        "# department\n",
        "\n",
        "from matplotlib import pyplot as plt\n",
        "import seaborn as sns\n",
        "df2.groupby('department').size().plot(kind='barh', color=sns.palettes.mpl_palette('Dark2'))\n",
        "plt.gca().spines[['top', 'right',]].set_visible(False)"
      ],
      "cell_type": "code",
      "execution_count": 29,
      "outputs": [
        {
          "output_type": "display_data",
          "data": {
            "text/plain": [
              "<Figure size 640x480 with 1 Axes>"
            ],
            "image/png": "[encoded data removed]"
          },
          "metadata": {}
        }
      ],
      "metadata": {
        "colab": {
          "base_uri": "https://localhost:8080/",
          "height": 430
        },
        "id": "n40fS559lCpR",
        "outputId": "6d56047a-f8f0-49de-d4ea-783e48e58641"
      }
    },
    {
      "cell_type": "code",
      "source": [
        "# Independednt T-test\n",
        "from scipy.stats import ttest_ind\n"
      ],
      "metadata": {
        "id": "G4bEzGo_m6fv"
      },
      "execution_count": 35,
      "outputs": []
    },
    {
      "cell_type": "code",
      "source": [
        "group1 = df2[df2['gender'] == 'Male']['salary expectation']\n",
        "group2 = df2[df2['gender'] == 'Female']['salary expectation']"
      ],
      "metadata": {
        "id": "L3fp_tt4m6iU"
      },
      "execution_count": 36,
      "outputs": []
    },
    {
      "cell_type": "code",
      "source": [
        "t_stat, p_value = ttest_ind(group1, group2)\n"
      ],
      "metadata": {
        "id": "cEGPrbW5m6k8"
      },
      "execution_count": 37,
      "outputs": []
    },
    {
      "cell_type": "code",
      "source": [
        "print('T-statistic:', t_stat)\n",
        "print('P-value:', p_value)\n"
      ],
      "metadata": {
        "colab": {
          "base_uri": "https://localhost:8080/"
        },
        "id": "_kCCa15Qm6nP",
        "outputId": "c93e1422-a370-4ae3-a98a-237ec5eff51b"
      },
      "execution_count": 38,
      "outputs": [
        {
          "output_type": "stream",
          "name": "stdout",
          "text": [
            "T-statistic: -0.5561514580491551\n",
            "P-value: 0.5786410087951366\n"
          ]
        }
      ]
    },
    {
      "cell_type": "code",
      "source": [
        "# One - Way Anova\n",
        "from scipy.stats import f_oneway"
      ],
      "metadata": {
        "id": "EiWbFpm3m6p7"
      },
      "execution_count": 39,
      "outputs": []
    },
    {
      "cell_type": "code",
      "source": [
        "groups = [df2[df2['department'] == dept]['college mark'] for dept in df2['department'].unique()]\n",
        "f_stat, p_value = f_oneway(*groups)"
      ],
      "metadata": {
        "id": "ggoJ2cUVm6sL"
      },
      "execution_count": 40,
      "outputs": []
    },
    {
      "cell_type": "code",
      "source": [
        "print('F-statistic:', f_stat)\n",
        "print('P-value:', p_value)"
      ],
      "metadata": {
        "colab": {
          "base_uri": "https://localhost:8080/"
        },
        "id": "Mtps89Mhm6u2",
        "outputId": "f9455bdd-9108-4a28-e012-b5183d309054"
      },
      "execution_count": 41,
      "outputs": [
        {
          "output_type": "stream",
          "name": "stdout",
          "text": [
            "F-statistic: 11.095848752220798\n",
            "P-value: 7.852049014674038e-07\n"
          ]
        }
      ]
    },
    {
      "cell_type": "code",
      "source": [
        "#Chi-Square Test\n",
        "from scipy.stats import chi2_contingency\n"
      ],
      "metadata": {
        "id": "Csg2GLNXm6xK"
      },
      "execution_count": 42,
      "outputs": []
    },
    {
      "cell_type": "code",
      "source": [
        "table = pd.crosstab(df2['gender'], df2['part-time job'])\n",
        "chi2, p_value, _, _ = chi2_contingency(table)\n"
      ],
      "metadata": {
        "id": "MlbMN5SIm6z_"
      },
      "execution_count": 43,
      "outputs": []
    },
    {
      "cell_type": "code",
      "source": [
        "print('Chi-squared Statistic:', chi2)\n",
        "print('P-value:', p_value)"
      ],
      "metadata": {
        "colab": {
          "base_uri": "https://localhost:8080/"
        },
        "id": "W-_q9DGbn-w0",
        "outputId": "0c5d4f56-f164-4f33-8835-fcd65400d92f"
      },
      "execution_count": 44,
      "outputs": [
        {
          "output_type": "stream",
          "name": "stdout",
          "text": [
            "Chi-squared Statistic: 3.695081601858366\n",
            "P-value: 0.0545731127905958\n"
          ]
        }
      ]
    },
    {
      "cell_type": "code",
      "source": [
        "from sklearn.impute import SimpleImputer\n",
        "from sklearn.pipeline import make_pipeline\n",
        "from sklearn.model_selection import train_test_split\n",
        "from sklearn.preprocessing import LabelEncoder\n",
        "from sklearn.ensemble import RandomForestRegressor\n",
        "from sklearn.metrics import mean_squared_error"
      ],
      "metadata": {
        "id": "SSc5zImtn-7d"
      },
      "execution_count": 72,
      "outputs": []
    },
    {
      "cell_type": "code",
      "source": [
        "# Handling categorical variables\n",
        "label_encoders = {}\n",
        "for column in ['gender', 'department']:\n",
        "    le = LabelEncoder()\n",
        "    df2[column] = le.fit_transform(df2[column])\n",
        "    label_encoders[column] = le"
      ],
      "metadata": {
        "id": "1UG60RF8n--b"
      },
      "execution_count": 67,
      "outputs": []
    },
    {
      "cell_type": "code",
      "source": [
        "# Feature selection\n",
        "X = df2[['daily studing time', 'gender', '10th mark', '12th mark']]\n",
        "y = df2['college mark']"
      ],
      "metadata": {
        "id": "b2pusWP2n_Bg"
      },
      "execution_count": 68,
      "outputs": []
    },
    {
      "cell_type": "code",
      "source": [
        "\n",
        "import warnings\n",
        "\n",
        "# Ignore all warnings (could not fix it)\n",
        "warnings.filterwarnings('ignore')\n",
        "\n",
        "# missing data\n",
        "X.fillna(X.mean(), inplace=True)\n",
        "y.fillna(y.mean(), inplace=True)"
      ],
      "metadata": {
        "id": "ZG1jGk6Wn_EU"
      },
      "execution_count": 63,
      "outputs": []
    },
    {
      "cell_type": "code",
      "source": [
        "# Splitting the dataset\n",
        "X_train, X_test, y_train, y_test = train_test_split(X, y, test_size = 0.2, random_state = 42)"
      ],
      "metadata": {
        "id": "rEx4jAfsn_HP"
      },
      "execution_count": 64,
      "outputs": []
    },
    {
      "cell_type": "code",
      "source": [
        "# imputer to fill missing values\n",
        "imputer = SimpleImputer(strategy='mean')\n"
      ],
      "metadata": {
        "id": "ZDwsziM2rlLg"
      },
      "execution_count": 69,
      "outputs": []
    },
    {
      "cell_type": "code",
      "source": [
        "# Create a Random Forest Regressor\n",
        "regressor = RandomForestRegressor(n_estimators = 100, random_state = 42)\n"
      ],
      "metadata": {
        "id": "I9f2jTO4rGvI"
      },
      "execution_count": 70,
      "outputs": []
    },
    {
      "cell_type": "code",
      "source": [
        "# Create a pipeline that first imputes the data then fits the model\n",
        "pipeline = make_pipeline(imputer, regressor)"
      ],
      "metadata": {
        "id": "faTnBmB1rGx-"
      },
      "execution_count": 73,
      "outputs": []
    },
    {
      "cell_type": "code",
      "source": [
        "# Fit the model\n",
        "pipeline.fit(X_train, y_train)"
      ],
      "metadata": {
        "colab": {
          "base_uri": "https://localhost:8080/",
          "height": 128
        },
        "id": "w5GUaqk_rG0v",
        "outputId": "4458a25b-fca0-43c3-e7a3-788215667b2e"
      },
      "execution_count": 74,
      "outputs": [
        {
          "output_type": "execute_result",
          "data": {
            "text/plain": [
              "Pipeline(steps=[('simpleimputer', SimpleImputer()),\n",
              "                ('randomforestregressor',\n",
              "                 RandomForestRegressor(random_state=42))])"
            ],
            "text/html": [
              "<style>#sk-container-id-1 {color: black;background-color: white;}#sk-container-id-1 pre{padding: 0;}#sk-container-id-1 div.sk-toggleable {background-color: white;}#sk-container-id-1 label.sk-toggleable__label {cursor: pointer;display: block;width: 100%;margin-bottom: 0;padding: 0.3em;box-sizing: border-box;text-align: center;}#sk-container-id-1 label.sk-toggleable__label-arrow:before {content: \"▸\";float: left;margin-right: 0.25em;color: #696969;}#sk-container-id-1 label.sk-toggleable__label-arrow:hover:before {color: black;}#sk-container-id-1 div.sk-estimator:hover label.sk-toggleable__label-arrow:before {color: black;}#sk-container-id-1 div.sk-toggleable__content {max-height: 0;max-width: 0;overflow: hidden;text-align: left;background-color: #f0f8ff;}#sk-container-id-1 div.sk-toggleable__content pre {margin: 0.2em;color: black;border-radius: 0.25em;background-color: #f0f8ff;}#sk-container-id-1 input.sk-toggleable__control:checked~div.sk-toggleable__content {max-height: 200px;max-width: 100%;overflow: auto;}#sk-container-id-1 input.sk-toggleable__control:checked~label.sk-toggleable__label-arrow:before {content: \"▾\";}#sk-container-id-1 div.sk-estimator input.sk-toggleable__control:checked~label.sk-toggleable__label {background-color: #d4ebff;}#sk-container-id-1 div.sk-label input.sk-toggleable__control:checked~label.sk-toggleable__label {background-color: #d4ebff;}#sk-container-id-1 input.sk-hidden--visually {border: 0;clip: rect(1px 1px 1px 1px);clip: rect(1px, 1px, 1px, 1px);height: 1px;margin: -1px;overflow: hidden;padding: 0;position: absolute;width: 1px;}#sk-container-id-1 div.sk-estimator {font-family: monospace;background-color: #f0f8ff;border: 1px dotted black;border-radius: 0.25em;box-sizing: border-box;margin-bottom: 0.5em;}#sk-container-id-1 div.sk-estimator:hover {background-color: #d4ebff;}#sk-container-id-1 div.sk-parallel-item::after {content: \"\";width: 100%;border-bottom: 1px solid gray;flex-grow: 1;}#sk-container-id-1 div.sk-label:hover label.sk-toggleable__label {background-color: #d4ebff;}#sk-container-id-1 div.sk-serial::before {content: \"\";position: absolute;border-left: 1px solid gray;box-sizing: border-box;top: 0;bottom: 0;left: 50%;z-index: 0;}#sk-container-id-1 div.sk-serial {display: flex;flex-direction: column;align-items: center;background-color: white;padding-right: 0.2em;padding-left: 0.2em;position: relative;}#sk-container-id-1 div.sk-item {position: relative;z-index: 1;}#sk-container-id-1 div.sk-parallel {display: flex;align-items: stretch;justify-content: center;background-color: white;position: relative;}#sk-container-id-1 div.sk-item::before, #sk-container-id-1 div.sk-parallel-item::before {content: \"\";position: absolute;border-left: 1px solid gray;box-sizing: border-box;top: 0;bottom: 0;left: 50%;z-index: -1;}#sk-container-id-1 div.sk-parallel-item {display: flex;flex-direction: column;z-index: 1;position: relative;background-color: white;}#sk-container-id-1 div.sk-parallel-item:first-child::after {align-self: flex-end;width: 50%;}#sk-container-id-1 div.sk-parallel-item:last-child::after {align-self: flex-start;width: 50%;}#sk-container-id-1 div.sk-parallel-item:only-child::after {width: 0;}#sk-container-id-1 div.sk-dashed-wrapped {border: 1px dashed gray;margin: 0 0.4em 0.5em 0.4em;box-sizing: border-box;padding-bottom: 0.4em;background-color: white;}#sk-container-id-1 div.sk-label label {font-family: monospace;font-weight: bold;display: inline-block;line-height: 1.2em;}#sk-container-id-1 div.sk-label-container {text-align: center;}#sk-container-id-1 div.sk-container {/* jupyter's `normalize.less` sets `[hidden] { display: none; }` but bootstrap.min.css set `[hidden] { display: none !important; }` so we also need the `!important` here to be able to override the default hidden behavior on the sphinx rendered scikit-learn.org. See: https://github.com/scikit-learn/scikit-learn/issues/21755 */display: inline-block !important;position: relative;}#sk-container-id-1 div.sk-text-repr-fallback {display: none;}</style><div id=\"sk-container-id-1\" class=\"sk-top-container\"><div class=\"sk-text-repr-fallback\"><pre>Pipeline(steps=[(&#x27;simpleimputer&#x27;, SimpleImputer()),\n",
              "                (&#x27;randomforestregressor&#x27;,\n",
              "                 RandomForestRegressor(random_state=42))])</pre><b>In a Jupyter environment, please rerun this cell to show the HTML representation or trust the notebook. <br />On GitHub, the HTML representation is unable to render, please try loading this page with nbviewer.org.</b></div><div class=\"sk-container\" hidden><div class=\"sk-item sk-dashed-wrapped\"><div class=\"sk-label-container\"><div class=\"sk-label sk-toggleable\"><input class=\"sk-toggleable__control sk-hidden--visually\" id=\"sk-estimator-id-1\" type=\"checkbox\" ><label for=\"sk-estimator-id-1\" class=\"sk-toggleable__label sk-toggleable__label-arrow\">Pipeline</label><div class=\"sk-toggleable__content\"><pre>Pipeline(steps=[(&#x27;simpleimputer&#x27;, SimpleImputer()),\n",
              "                (&#x27;randomforestregressor&#x27;,\n",
              "                 RandomForestRegressor(random_state=42))])</pre></div></div></div><div class=\"sk-serial\"><div class=\"sk-item\"><div class=\"sk-estimator sk-toggleable\"><input class=\"sk-toggleable__control sk-hidden--visually\" id=\"sk-estimator-id-2\" type=\"checkbox\" ><label for=\"sk-estimator-id-2\" class=\"sk-toggleable__label sk-toggleable__label-arrow\">SimpleImputer</label><div class=\"sk-toggleable__content\"><pre>SimpleImputer()</pre></div></div></div><div class=\"sk-item\"><div class=\"sk-estimator sk-toggleable\"><input class=\"sk-toggleable__control sk-hidden--visually\" id=\"sk-estimator-id-3\" type=\"checkbox\" ><label for=\"sk-estimator-id-3\" class=\"sk-toggleable__label sk-toggleable__label-arrow\">RandomForestRegressor</label><div class=\"sk-toggleable__content\"><pre>RandomForestRegressor(random_state=42)</pre></div></div></div></div></div></div></div>"
            ]
          },
          "metadata": {},
          "execution_count": 74
        }
      ]
    },
    {
      "cell_type": "code",
      "source": [
        "# Predicting the Test set\n",
        "y_pred = pipeline.predict(X_test)"
      ],
      "metadata": {
        "id": "EuWr102hrG3L"
      },
      "execution_count": 75,
      "outputs": []
    },
    {
      "cell_type": "code",
      "source": [
        "# Evaluate the model\n",
        "mse = mean_squared_error(y_test, y_pred)\n",
        "print(f'Mean Squared Error: {mse}')\n"
      ],
      "metadata": {
        "colab": {
          "base_uri": "https://localhost:8080/"
        },
        "id": "BLrBm11brG5t",
        "outputId": "9f946f23-7739-48dc-aa9a-e08341a202c7"
      },
      "execution_count": 76,
      "outputs": [
        {
          "output_type": "stream",
          "name": "stdout",
          "text": [
            "Mean Squared Error: 287.7670873371065\n"
          ]
        }
      ]
    },
    {
      "cell_type": "code",
      "source": [
        "#Linear REgress model\n",
        "from sklearn.preprocessing import LabelEncoder, StandardScaler\n",
        "from sklearn.impute import SimpleImputer\n",
        "from sklearn.linear_model import LinearRegression\n",
        "from sklearn.metrics import mean_squared_error, r2_score\n",
        "from sklearn.pipeline import Pipeline"
      ],
      "metadata": {
        "id": "n8vcLJ5arG7z"
      },
      "execution_count": 77,
      "outputs": []
    },
    {
      "cell_type": "code",
      "source": [
        "print(df2.columns)\n"
      ],
      "metadata": {
        "colab": {
          "base_uri": "https://localhost:8080/"
        },
        "id": "zISYhAlgt9ic",
        "outputId": "328a9cd3-729b-452d-970d-ca07917132d7"
      },
      "execution_count": 82,
      "outputs": [
        {
          "output_type": "stream",
          "name": "stdout",
          "text": [
            "Index(['certification course', 'gender', 'department', 'height(cm)',\n",
            "       'weight(kg)', '10th mark', '12th mark', 'college mark', 'hobbies',\n",
            "       'daily studing time', 'prefer to study in', 'salary expectation',\n",
            "       'do you like your degree?',\n",
            "       'willingness to pursue a career based on their degree  ',\n",
            "       'social medai & video', 'travelling time ', 'stress level ',\n",
            "       'financial status', 'part-time job'],\n",
            "      dtype='object')\n"
          ]
        }
      ]
    },
    {
      "cell_type": "code",
      "source": [
        "# Encode categorical\n",
        "categorical_cols = ['gender', 'department', 'prefer to study in', 'do you like your degree?',\n",
        "                    'willingness to pursue a career based on their degree  ', 'part-time job']\n",
        "for col in categorical_cols:\n",
        "    df2[col] = LabelEncoder().fit_transform(df2[col].astype(str))"
      ],
      "metadata": {
        "id": "fH4rkppEtfyO"
      },
      "execution_count": 83,
      "outputs": []
    },
    {
      "cell_type": "code",
      "source": [
        "#  features and var. for the model\n",
        "X = df2[['daily studing time', 'gender', '10th mark', '12th mark', 'department', 'prefer to study in']]\n",
        "y = df2['college mark'].astype(float)\n"
      ],
      "metadata": {
        "id": "12LTuULytf6R"
      },
      "execution_count": 86,
      "outputs": []
    },
    {
      "cell_type": "code",
      "source": [
        "# Handling NaVals. and standardising features\n",
        "pipeline_preprocessing = Pipeline([\n",
        "    ('imputer', SimpleImputer(strategy='mean')),\n",
        "    ('scaler', StandardScaler())\n",
        "])"
      ],
      "metadata": {
        "id": "H0JrC15Xtf9J"
      },
      "execution_count": 88,
      "outputs": []
    },
    {
      "cell_type": "code",
      "source": [
        "# Applying preprocessing\n",
        "X = pipeline_preprocessing.fit_transform(X)"
      ],
      "metadata": {
        "id": "O978Arldtf_f"
      },
      "execution_count": 89,
      "outputs": []
    },
    {
      "cell_type": "code",
      "source": [
        "# Splitting the dataset into the Training set and Test set\n",
        "X_train, X_test, y_train, y_test = train_test_split(X, y, test_size=0.2, random_state=42)\n"
      ],
      "metadata": {
        "id": "1-KG9zMgtgB1"
      },
      "execution_count": 90,
      "outputs": []
    },
    {
      "cell_type": "code",
      "source": [
        "# Creating the Linear Regression model\n",
        "model = LinearRegression()"
      ],
      "metadata": {
        "id": "NQgC7G78upqL"
      },
      "execution_count": 91,
      "outputs": []
    },
    {
      "cell_type": "code",
      "source": [
        "# Training the model\n",
        "model.fit(X_train, y_train)\n"
      ],
      "metadata": {
        "colab": {
          "base_uri": "https://localhost:8080/",
          "height": 75
        },
        "id": "J0fgssocusSj",
        "outputId": "f4adf920-8bf8-426e-a5d9-3eeaed182d59"
      },
      "execution_count": 92,
      "outputs": [
        {
          "output_type": "execute_result",
          "data": {
            "text/plain": [
              "LinearRegression()"
            ],
            "text/html": [
              "<style>#sk-container-id-2 {color: black;background-color: white;}#sk-container-id-2 pre{padding: 0;}#sk-container-id-2 div.sk-toggleable {background-color: white;}#sk-container-id-2 label.sk-toggleable__label {cursor: pointer;display: block;width: 100%;margin-bottom: 0;padding: 0.3em;box-sizing: border-box;text-align: center;}#sk-container-id-2 label.sk-toggleable__label-arrow:before {content: \"▸\";float: left;margin-right: 0.25em;color: #696969;}#sk-container-id-2 label.sk-toggleable__label-arrow:hover:before {color: black;}#sk-container-id-2 div.sk-estimator:hover label.sk-toggleable__label-arrow:before {color: black;}#sk-container-id-2 div.sk-toggleable__content {max-height: 0;max-width: 0;overflow: hidden;text-align: left;background-color: #f0f8ff;}#sk-container-id-2 div.sk-toggleable__content pre {margin: 0.2em;color: black;border-radius: 0.25em;background-color: #f0f8ff;}#sk-container-id-2 input.sk-toggleable__control:checked~div.sk-toggleable__content {max-height: 200px;max-width: 100%;overflow: auto;}#sk-container-id-2 input.sk-toggleable__control:checked~label.sk-toggleable__label-arrow:before {content: \"▾\";}#sk-container-id-2 div.sk-estimator input.sk-toggleable__control:checked~label.sk-toggleable__label {background-color: #d4ebff;}#sk-container-id-2 div.sk-label input.sk-toggleable__control:checked~label.sk-toggleable__label {background-color: #d4ebff;}#sk-container-id-2 input.sk-hidden--visually {border: 0;clip: rect(1px 1px 1px 1px);clip: rect(1px, 1px, 1px, 1px);height: 1px;margin: -1px;overflow: hidden;padding: 0;position: absolute;width: 1px;}#sk-container-id-2 div.sk-estimator {font-family: monospace;background-color: #f0f8ff;border: 1px dotted black;border-radius: 0.25em;box-sizing: border-box;margin-bottom: 0.5em;}#sk-container-id-2 div.sk-estimator:hover {background-color: #d4ebff;}#sk-container-id-2 div.sk-parallel-item::after {content: \"\";width: 100%;border-bottom: 1px solid gray;flex-grow: 1;}#sk-container-id-2 div.sk-label:hover label.sk-toggleable__label {background-color: #d4ebff;}#sk-container-id-2 div.sk-serial::before {content: \"\";position: absolute;border-left: 1px solid gray;box-sizing: border-box;top: 0;bottom: 0;left: 50%;z-index: 0;}#sk-container-id-2 div.sk-serial {display: flex;flex-direction: column;align-items: center;background-color: white;padding-right: 0.2em;padding-left: 0.2em;position: relative;}#sk-container-id-2 div.sk-item {position: relative;z-index: 1;}#sk-container-id-2 div.sk-parallel {display: flex;align-items: stretch;justify-content: center;background-color: white;position: relative;}#sk-container-id-2 div.sk-item::before, #sk-container-id-2 div.sk-parallel-item::before {content: \"\";position: absolute;border-left: 1px solid gray;box-sizing: border-box;top: 0;bottom: 0;left: 50%;z-index: -1;}#sk-container-id-2 div.sk-parallel-item {display: flex;flex-direction: column;z-index: 1;position: relative;background-color: white;}#sk-container-id-2 div.sk-parallel-item:first-child::after {align-self: flex-end;width: 50%;}#sk-container-id-2 div.sk-parallel-item:last-child::after {align-self: flex-start;width: 50%;}#sk-container-id-2 div.sk-parallel-item:only-child::after {width: 0;}#sk-container-id-2 div.sk-dashed-wrapped {border: 1px dashed gray;margin: 0 0.4em 0.5em 0.4em;box-sizing: border-box;padding-bottom: 0.4em;background-color: white;}#sk-container-id-2 div.sk-label label {font-family: monospace;font-weight: bold;display: inline-block;line-height: 1.2em;}#sk-container-id-2 div.sk-label-container {text-align: center;}#sk-container-id-2 div.sk-container {/* jupyter's `normalize.less` sets `[hidden] { display: none; }` but bootstrap.min.css set `[hidden] { display: none !important; }` so we also need the `!important` here to be able to override the default hidden behavior on the sphinx rendered scikit-learn.org. See: https://github.com/scikit-learn/scikit-learn/issues/21755 */display: inline-block !important;position: relative;}#sk-container-id-2 div.sk-text-repr-fallback {display: none;}</style><div id=\"sk-container-id-2\" class=\"sk-top-container\"><div class=\"sk-text-repr-fallback\"><pre>LinearRegression()</pre><b>In a Jupyter environment, please rerun this cell to show the HTML representation or trust the notebook. <br />On GitHub, the HTML representation is unable to render, please try loading this page with nbviewer.org.</b></div><div class=\"sk-container\" hidden><div class=\"sk-item\"><div class=\"sk-estimator sk-toggleable\"><input class=\"sk-toggleable__control sk-hidden--visually\" id=\"sk-estimator-id-4\" type=\"checkbox\" checked><label for=\"sk-estimator-id-4\" class=\"sk-toggleable__label sk-toggleable__label-arrow\">LinearRegression</label><div class=\"sk-toggleable__content\"><pre>LinearRegression()</pre></div></div></div></div></div>"
            ]
          },
          "metadata": {},
          "execution_count": 92
        }
      ]
    },
    {
      "cell_type": "code",
      "source": [
        "# Evaluating the model\n",
        "\n",
        "r2 = r2_score(y_test, y_pred)\n"
      ],
      "metadata": {
        "id": "ils2eFJvuvgd"
      },
      "execution_count": 95,
      "outputs": []
    },
    {
      "cell_type": "code",
      "source": [
        "#Not very effective model\n",
        "\n",
        "print(f'R² Score: {r2}')\n"
      ],
      "metadata": {
        "colab": {
          "base_uri": "https://localhost:8080/"
        },
        "id": "QwpVsMVcuviK",
        "outputId": "51baaa29-10a3-48ce-be80-37a92bebf3ac"
      },
      "execution_count": 97,
      "outputs": [
        {
          "output_type": "stream",
          "name": "stdout",
          "text": [
            "R² Score: 0.10850735128442424\n"
          ]
        }
      ]
    }
  ]
}