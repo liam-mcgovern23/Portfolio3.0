{
  "nbformat": 4,
  "nbformat_minor": 0,
  "metadata": {
    "colab": {
      "provenance": []
    },
    "kernelspec": {
      "name": "python3",
      "display_name": "Python 3"
    },
    "language_info": {
      "name": "python"
    }
  },
  "cells": [
    {
      "cell_type": "code",
      "execution_count": 1,
      "metadata": {
        "colab": {
          "base_uri": "https://localhost:8080/",
          "height": 73
        },
        "id": "ksXOiAotbO7F",
        "outputId": "1b3ab8de-4565-48a7-ab95-94f447d7cd0d"
      },
      "outputs": [
        {
          "output_type": "display_data",
          "data": {
            "text/plain": [
              "<IPython.core.display.HTML object>"
            ],
            "text/html": [
              "\n",
              "     <input type=\"file\" id=\"files-d5219697-e7c4-4f3c-a0a2-1ac599690b3f\" name=\"files[]\" multiple disabled\n",
              "        style=\"border:none\" />\n",
              "     <output id=\"result-d5219697-e7c4-4f3c-a0a2-1ac599690b3f\">\n",
              "      Upload widget is only available when the cell has been executed in the\n",
              "      current browser session. Please rerun this cell to enable.\n",
              "      </output>\n",
              "      <script>// Copyright 2017 Google LLC\n",
              "//\n",
              "// Licensed under the Apache License, Version 2.0 (the \"License\");\n",
              "// you may not use this file except in compliance with the License.\n",
              "// You may obtain a copy of the License at\n",
              "//\n",
              "//      http://www.apache.org/licenses/LICENSE-2.0\n",
              "//\n",
              "// Unless required by applicable law or agreed to in writing, software\n",
              "// distributed under the License is distributed on an \"AS IS\" BASIS,\n",
              "// WITHOUT WARRANTIES OR CONDITIONS OF ANY KIND, either express or implied.\n",
              "// See the License for the specific language governing permissions and\n",
              "// limitations under the License.\n",
              "\n",
              "/**\n",
              " * @fileoverview Helpers for google.colab Python module.\n",
              " */\n",
              "(function(scope) {\n",
              "function span(text, styleAttributes = {}) {\n",
              "  const element = document.createElement('span');\n",
              "  element.textContent = text;\n",
              "  for (const key of Object.keys(styleAttributes)) {\n",
              "    element.style[key] = styleAttributes[key];\n",
              "  }\n",
              "  return element;\n",
              "}\n",
              "\n",
              "// Max number of bytes which will be uploaded at a time.\n",
              "const MAX_PAYLOAD_SIZE = 100 * 1024;\n",
              "\n",
              "function _uploadFiles(inputId, outputId) {\n",
              "  const steps = uploadFilesStep(inputId, outputId);\n",
              "  const outputElement = document.getElementById(outputId);\n",
              "  // Cache steps on the outputElement to make it available for the next call\n",
              "  // to uploadFilesContinue from Python.\n",
              "  outputElement.steps = steps;\n",
              "\n",
              "  return _uploadFilesContinue(outputId);\n",
              "}\n",
              "\n",
              "// This is roughly an async generator (not supported in the browser yet),\n",
              "// where there are multiple asynchronous steps and the Python side is going\n",
              "// to poll for completion of each step.\n",
              "// This uses a Promise to block the python side on completion of each step,\n",
              "// then passes the result of the previous step as the input to the next step.\n",
              "function _uploadFilesContinue(outputId) {\n",
              "  const outputElement = document.getElementById(outputId);\n",
              "  const steps = outputElement.steps;\n",
              "\n",
              "  const next = steps.next(outputElement.lastPromiseValue);\n",
              "  return Promise.resolve(next.value.promise).then((value) => {\n",
              "    // Cache the last promise value to make it available to the next\n",
              "    // step of the generator.\n",
              "    outputElement.lastPromiseValue = value;\n",
              "    return next.value.response;\n",
              "  });\n",
              "}\n",
              "\n",
              "/**\n",
              " * Generator function which is called between each async step of the upload\n",
              " * process.\n",
              " * @param {string} inputId Element ID of the input file picker element.\n",
              " * @param {string} outputId Element ID of the output display.\n",
              " * @return {!Iterable<!Object>} Iterable of next steps.\n",
              " */\n",
              "function* uploadFilesStep(inputId, outputId) {\n",
              "  const inputElement = document.getElementById(inputId);\n",
              "  inputElement.disabled = false;\n",
              "\n",
              "  const outputElement = document.getElementById(outputId);\n",
              "  outputElement.innerHTML = '';\n",
              "\n",
              "  const pickedPromise = new Promise((resolve) => {\n",
              "    inputElement.addEventListener('change', (e) => {\n",
              "      resolve(e.target.files);\n",
              "    });\n",
              "  });\n",
              "\n",
              "  const cancel = document.createElement('button');\n",
              "  inputElement.parentElement.appendChild(cancel);\n",
              "  cancel.textContent = 'Cancel upload';\n",
              "  const cancelPromise = new Promise((resolve) => {\n",
              "    cancel.onclick = () => {\n",
              "      resolve(null);\n",
              "    };\n",
              "  });\n",
              "\n",
              "  // Wait for the user to pick the files.\n",
              "  const files = yield {\n",
              "    promise: Promise.race([pickedPromise, cancelPromise]),\n",
              "    response: {\n",
              "      action: 'starting',\n",
              "    }\n",
              "  };\n",
              "\n",
              "  cancel.remove();\n",
              "\n",
              "  // Disable the input element since further picks are not allowed.\n",
              "  inputElement.disabled = true;\n",
              "\n",
              "  if (!files) {\n",
              "    return {\n",
              "      response: {\n",
              "        action: 'complete',\n",
              "      }\n",
              "    };\n",
              "  }\n",
              "\n",
              "  for (const file of files) {\n",
              "    const li = document.createElement('li');\n",
              "    li.append(span(file.name, {fontWeight: 'bold'}));\n",
              "    li.append(span(\n",
              "        `(${file.type || 'n/a'}) - ${file.size} bytes, ` +\n",
              "        `last modified: ${\n",
              "            file.lastModifiedDate ? file.lastModifiedDate.toLocaleDateString() :\n",
              "                                    'n/a'} - `));\n",
              "    const percent = span('0% done');\n",
              "    li.appendChild(percent);\n",
              "\n",
              "    outputElement.appendChild(li);\n",
              "\n",
              "    const fileDataPromise = new Promise((resolve) => {\n",
              "      const reader = new FileReader();\n",
              "      reader.onload = (e) => {\n",
              "        resolve(e.target.result);\n",
              "      };\n",
              "      reader.readAsArrayBuffer(file);\n",
              "    });\n",
              "    // Wait for the data to be ready.\n",
              "    let fileData = yield {\n",
              "      promise: fileDataPromise,\n",
              "      response: {\n",
              "        action: 'continue',\n",
              "      }\n",
              "    };\n",
              "\n",
              "    // Use a chunked sending to avoid message size limits. See b/62115660.\n",
              "    let position = 0;\n",
              "    do {\n",
              "      const length = Math.min(fileData.byteLength - position, MAX_PAYLOAD_SIZE);\n",
              "      const chunk = new Uint8Array(fileData, position, length);\n",
              "      position += length;\n",
              "\n",
              "      const base64 = btoa(String.fromCharCode.apply(null, chunk));\n",
              "      yield {\n",
              "        response: {\n",
              "          action: 'append',\n",
              "          file: file.name,\n",
              "          data: base64,\n",
              "        },\n",
              "      };\n",
              "\n",
              "      let percentDone = fileData.byteLength === 0 ?\n",
              "          100 :\n",
              "          Math.round((position / fileData.byteLength) * 100);\n",
              "      percent.textContent = `${percentDone}% done`;\n",
              "\n",
              "    } while (position < fileData.byteLength);\n",
              "  }\n",
              "\n",
              "  // All done.\n",
              "  yield {\n",
              "    response: {\n",
              "      action: 'complete',\n",
              "    }\n",
              "  };\n",
              "}\n",
              "\n",
              "scope.google = scope.google || {};\n",
              "scope.google.colab = scope.google.colab || {};\n",
              "scope.google.colab._files = {\n",
              "  _uploadFiles,\n",
              "  _uploadFilesContinue,\n",
              "};\n",
              "})(self);\n",
              "</script> "
            ]
          },
          "metadata": {}
        },
        {
          "output_type": "stream",
          "name": "stdout",
          "text": [
            "Saving player_shooting_2023_2024.csv to player_shooting_2023_2024.csv\n"
          ]
        }
      ],
      "source": [
        "from google.colab import files\n",
        "uploaded = files.upload()"
      ]
    },
    {
      "cell_type": "code",
      "source": [
        "import pandas as pd"
      ],
      "metadata": {
        "id": "vt-T-vUFbiw-"
      },
      "execution_count": 4,
      "outputs": []
    },
    {
      "cell_type": "code",
      "source": [
        "import io\n",
        "df2 = pd.read_csv(io.BytesIO(uploaded['player_shooting_2023_2024.csv']))\n",
        "# Dataset is now stored in a Pandas Dataframe"
      ],
      "metadata": {
        "id": "8Dj_ojysbZP9"
      },
      "execution_count": 5,
      "outputs": []
    },
    {
      "cell_type": "code",
      "source": [
        "df2"
      ],
      "metadata": {
        "colab": {
          "base_uri": "https://localhost:8080/",
          "height": 424
        },
        "id": "xJVlvtkCbq2c",
        "outputId": "f17e435a-5c6e-48c3-bec9-f866665463d2"
      },
      "execution_count": 6,
      "outputs": [
        {
          "output_type": "execute_result",
          "data": {
            "text/plain": [
              "     Unnamed: 0   Rk               Player Nation    Pos          Squad   Age  \\\n",
              "0             0    1           Max Aarons    ENG     DF    Bournemouth  24.0   \n",
              "1             1    2   Bénie Adama Traore    CIV  FW,MF  Sheffield Utd  21.0   \n",
              "2             2    3          Tyler Adams    USA     MF    Bournemouth  25.0   \n",
              "3             3    4     Tosin Adarabioyo    ENG     DF         Fulham  26.0   \n",
              "4             4    5       Elijah Adebayo    ENG     FW     Luton Town  26.0   \n",
              "..          ...  ...                  ...    ...    ...            ...   ...   \n",
              "579         579  558       Nicolò Zaniolo    ITA  MF,FW    Aston Villa  24.0   \n",
              "580         580  559        Anass Zaroury    MAR  FW,MF        Burnley  23.0   \n",
              "581         581  560  Oleksandr Zinchenko    UKR     DF        Arsenal  27.0   \n",
              "582         582  561           Kurt Zouma    FRA     DF       West Ham  29.0   \n",
              "583         583  562      Martin Ødegaard    NOR     MF        Arsenal  25.0   \n",
              "\n",
              "       Born   90s  Gls  ...   FK   PK  PKatt   xG  npxG  npxG/Sh  G-xG  \\\n",
              "0    2000.0  12.1  0.0  ...  0.0  0.0    0.0  0.0   0.0     0.02   0.0   \n",
              "1    2002.0   4.3  0.0  ...  0.0  0.0    0.0  0.3   0.3     0.27  -0.3   \n",
              "2    1999.0   1.2  0.0  ...  0.0  0.0    0.0  0.0   0.0      NaN   0.0   \n",
              "3    1997.0  16.0  2.0  ...  0.0  0.0    0.0  0.7   0.7     0.05   1.3   \n",
              "4    1998.0  12.9  9.0  ...  0.0  0.0    0.0  5.6   5.6     0.20   3.4   \n",
              "..      ...   ...  ...  ...  ...  ...    ...  ...   ...      ...   ...   \n",
              "579  1999.0   8.3  2.0  ...  0.0  0.0    0.0  2.3   2.3     0.09  -0.3   \n",
              "580  2000.0   1.7  0.0  ...  0.0  0.0    0.0  0.2   0.2     0.06  -0.2   \n",
              "581  1996.0  17.6  1.0  ...  0.0  0.0    0.0  0.5   0.5     0.03   0.5   \n",
              "582  1994.0  26.2  3.0  ...  0.0  0.0    0.0  1.8   1.8     0.12   1.2   \n",
              "583  1998.0  27.5  7.0  ...  2.0  2.0    2.0  5.9   4.3     0.07   1.1   \n",
              "\n",
              "     np:G-xG  Matches  Birth Month  \n",
              "0        0.0  Matches          May  \n",
              "1       -0.3  Matches        April  \n",
              "2        0.0  Matches         July  \n",
              "3        1.3  Matches     February  \n",
              "4        3.4  Matches         June  \n",
              "..       ...      ...          ...  \n",
              "579     -0.3  Matches     November  \n",
              "580     -0.2  Matches        March  \n",
              "581      0.5  Matches          May  \n",
              "582      1.2  Matches        March  \n",
              "583      0.7  Matches          May  \n",
              "\n",
              "[584 rows x 28 columns]"
            ],
            "text/html": [
              "\n",
              "  <div id=\"df-71b8bac2-7168-4c4c-93e5-3d36bb3c4757\" class=\"colab-df-container\">\n",
              "    <div>\n",
              "<style scoped>\n",
              "    .dataframe tbody tr th:only-of-type {\n",
              "        vertical-align: middle;\n",
              "    }\n",
              "\n",
              "    .dataframe tbody tr th {\n",
              "        vertical-align: top;\n",
              "    }\n",
              "\n",
              "    .dataframe thead th {\n",
              "        text-align: right;\n",
              "    }\n",
              "</style>\n",
              "<table border=\"1\" class=\"dataframe\">\n",
              "  <thead>\n",
              "    <tr style=\"text-align: right;\">\n",
              "      <th></th>\n",
              "      <th>Unnamed: 0</th>\n",
              "      <th>Rk</th>\n",
              "      <th>Player</th>\n",
              "      <th>Nation</th>\n",
              "      <th>Pos</th>\n",
              "      <th>Squad</th>\n",
              "      <th>Age</th>\n",
              "      <th>Born</th>\n",
              "      <th>90s</th>\n",
              "      <th>Gls</th>\n",
              "      <th>...</th>\n",
              "      <th>FK</th>\n",
              "      <th>PK</th>\n",
              "      <th>PKatt</th>\n",
              "      <th>xG</th>\n",
              "      <th>npxG</th>\n",
              "      <th>npxG/Sh</th>\n",
              "      <th>G-xG</th>\n",
              "      <th>np:G-xG</th>\n",
              "      <th>Matches</th>\n",
              "      <th>Birth Month</th>\n",
              "    </tr>\n",
              "  </thead>\n",
              "  <tbody>\n",
              "    <tr>\n",
              "      <th>0</th>\n",
              "      <td>0</td>\n",
              "      <td>1</td>\n",
              "      <td>Max Aarons</td>\n",
              "      <td>ENG</td>\n",
              "      <td>DF</td>\n",
              "      <td>Bournemouth</td>\n",
              "      <td>24.0</td>\n",
              "      <td>2000.0</td>\n",
              "      <td>12.1</td>\n",
              "      <td>0.0</td>\n",
              "      <td>...</td>\n",
              "      <td>0.0</td>\n",
              "      <td>0.0</td>\n",
              "      <td>0.0</td>\n",
              "      <td>0.0</td>\n",
              "      <td>0.0</td>\n",
              "      <td>0.02</td>\n",
              "      <td>0.0</td>\n",
              "      <td>0.0</td>\n",
              "      <td>Matches</td>\n",
              "      <td>May</td>\n",
              "    </tr>\n",
              "    <tr>\n",
              "      <th>1</th>\n",
              "      <td>1</td>\n",
              "      <td>2</td>\n",
              "      <td>Bénie Adama Traore</td>\n",
              "      <td>CIV</td>\n",
              "      <td>FW,MF</td>\n",
              "      <td>Sheffield Utd</td>\n",
              "      <td>21.0</td>\n",
              "      <td>2002.0</td>\n",
              "      <td>4.3</td>\n",
              "      <td>0.0</td>\n",
              "      <td>...</td>\n",
              "      <td>0.0</td>\n",
              "      <td>0.0</td>\n",
              "      <td>0.0</td>\n",
              "      <td>0.3</td>\n",
              "      <td>0.3</td>\n",
              "      <td>0.27</td>\n",
              "      <td>-0.3</td>\n",
              "      <td>-0.3</td>\n",
              "      <td>Matches</td>\n",
              "      <td>April</td>\n",
              "    </tr>\n",
              "    <tr>\n",
              "      <th>2</th>\n",
              "      <td>2</td>\n",
              "      <td>3</td>\n",
              "      <td>Tyler Adams</td>\n",
              "      <td>USA</td>\n",
              "      <td>MF</td>\n",
              "      <td>Bournemouth</td>\n",
              "      <td>25.0</td>\n",
              "      <td>1999.0</td>\n",
              "      <td>1.2</td>\n",
              "      <td>0.0</td>\n",
              "      <td>...</td>\n",
              "      <td>0.0</td>\n",
              "      <td>0.0</td>\n",
              "      <td>0.0</td>\n",
              "      <td>0.0</td>\n",
              "      <td>0.0</td>\n",
              "      <td>NaN</td>\n",
              "      <td>0.0</td>\n",
              "      <td>0.0</td>\n",
              "      <td>Matches</td>\n",
              "      <td>July</td>\n",
              "    </tr>\n",
              "    <tr>\n",
              "      <th>3</th>\n",
              "      <td>3</td>\n",
              "      <td>4</td>\n",
              "      <td>Tosin Adarabioyo</td>\n",
              "      <td>ENG</td>\n",
              "      <td>DF</td>\n",
              "      <td>Fulham</td>\n",
              "      <td>26.0</td>\n",
              "      <td>1997.0</td>\n",
              "      <td>16.0</td>\n",
              "      <td>2.0</td>\n",
              "      <td>...</td>\n",
              "      <td>0.0</td>\n",
              "      <td>0.0</td>\n",
              "      <td>0.0</td>\n",
              "      <td>0.7</td>\n",
              "      <td>0.7</td>\n",
              "      <td>0.05</td>\n",
              "      <td>1.3</td>\n",
              "      <td>1.3</td>\n",
              "      <td>Matches</td>\n",
              "      <td>February</td>\n",
              "    </tr>\n",
              "    <tr>\n",
              "      <th>4</th>\n",
              "      <td>4</td>\n",
              "      <td>5</td>\n",
              "      <td>Elijah Adebayo</td>\n",
              "      <td>ENG</td>\n",
              "      <td>FW</td>\n",
              "      <td>Luton Town</td>\n",
              "      <td>26.0</td>\n",
              "      <td>1998.0</td>\n",
              "      <td>12.9</td>\n",
              "      <td>9.0</td>\n",
              "      <td>...</td>\n",
              "      <td>0.0</td>\n",
              "      <td>0.0</td>\n",
              "      <td>0.0</td>\n",
              "      <td>5.6</td>\n",
              "      <td>5.6</td>\n",
              "      <td>0.20</td>\n",
              "      <td>3.4</td>\n",
              "      <td>3.4</td>\n",
              "      <td>Matches</td>\n",
              "      <td>June</td>\n",
              "    </tr>\n",
              "    <tr>\n",
              "      <th>...</th>\n",
              "      <td>...</td>\n",
              "      <td>...</td>\n",
              "      <td>...</td>\n",
              "      <td>...</td>\n",
              "      <td>...</td>\n",
              "      <td>...</td>\n",
              "      <td>...</td>\n",
              "      <td>...</td>\n",
              "      <td>...</td>\n",
              "      <td>...</td>\n",
              "      <td>...</td>\n",
              "      <td>...</td>\n",
              "      <td>...</td>\n",
              "      <td>...</td>\n",
              "      <td>...</td>\n",
              "      <td>...</td>\n",
              "      <td>...</td>\n",
              "      <td>...</td>\n",
              "      <td>...</td>\n",
              "      <td>...</td>\n",
              "      <td>...</td>\n",
              "    </tr>\n",
              "    <tr>\n",
              "      <th>579</th>\n",
              "      <td>579</td>\n",
              "      <td>558</td>\n",
              "      <td>Nicolò Zaniolo</td>\n",
              "      <td>ITA</td>\n",
              "      <td>MF,FW</td>\n",
              "      <td>Aston Villa</td>\n",
              "      <td>24.0</td>\n",
              "      <td>1999.0</td>\n",
              "      <td>8.3</td>\n",
              "      <td>2.0</td>\n",
              "      <td>...</td>\n",
              "      <td>0.0</td>\n",
              "      <td>0.0</td>\n",
              "      <td>0.0</td>\n",
              "      <td>2.3</td>\n",
              "      <td>2.3</td>\n",
              "      <td>0.09</td>\n",
              "      <td>-0.3</td>\n",
              "      <td>-0.3</td>\n",
              "      <td>Matches</td>\n",
              "      <td>November</td>\n",
              "    </tr>\n",
              "    <tr>\n",
              "      <th>580</th>\n",
              "      <td>580</td>\n",
              "      <td>559</td>\n",
              "      <td>Anass Zaroury</td>\n",
              "      <td>MAR</td>\n",
              "      <td>FW,MF</td>\n",
              "      <td>Burnley</td>\n",
              "      <td>23.0</td>\n",
              "      <td>2000.0</td>\n",
              "      <td>1.7</td>\n",
              "      <td>0.0</td>\n",
              "      <td>...</td>\n",
              "      <td>0.0</td>\n",
              "      <td>0.0</td>\n",
              "      <td>0.0</td>\n",
              "      <td>0.2</td>\n",
              "      <td>0.2</td>\n",
              "      <td>0.06</td>\n",
              "      <td>-0.2</td>\n",
              "      <td>-0.2</td>\n",
              "      <td>Matches</td>\n",
              "      <td>March</td>\n",
              "    </tr>\n",
              "    <tr>\n",
              "      <th>581</th>\n",
              "      <td>581</td>\n",
              "      <td>560</td>\n",
              "      <td>Oleksandr Zinchenko</td>\n",
              "      <td>UKR</td>\n",
              "      <td>DF</td>\n",
              "      <td>Arsenal</td>\n",
              "      <td>27.0</td>\n",
              "      <td>1996.0</td>\n",
              "      <td>17.6</td>\n",
              "      <td>1.0</td>\n",
              "      <td>...</td>\n",
              "      <td>0.0</td>\n",
              "      <td>0.0</td>\n",
              "      <td>0.0</td>\n",
              "      <td>0.5</td>\n",
              "      <td>0.5</td>\n",
              "      <td>0.03</td>\n",
              "      <td>0.5</td>\n",
              "      <td>0.5</td>\n",
              "      <td>Matches</td>\n",
              "      <td>May</td>\n",
              "    </tr>\n",
              "    <tr>\n",
              "      <th>582</th>\n",
              "      <td>582</td>\n",
              "      <td>561</td>\n",
              "      <td>Kurt Zouma</td>\n",
              "      <td>FRA</td>\n",
              "      <td>DF</td>\n",
              "      <td>West Ham</td>\n",
              "      <td>29.0</td>\n",
              "      <td>1994.0</td>\n",
              "      <td>26.2</td>\n",
              "      <td>3.0</td>\n",
              "      <td>...</td>\n",
              "      <td>0.0</td>\n",
              "      <td>0.0</td>\n",
              "      <td>0.0</td>\n",
              "      <td>1.8</td>\n",
              "      <td>1.8</td>\n",
              "      <td>0.12</td>\n",
              "      <td>1.2</td>\n",
              "      <td>1.2</td>\n",
              "      <td>Matches</td>\n",
              "      <td>March</td>\n",
              "    </tr>\n",
              "    <tr>\n",
              "      <th>583</th>\n",
              "      <td>583</td>\n",
              "      <td>562</td>\n",
              "      <td>Martin Ødegaard</td>\n",
              "      <td>NOR</td>\n",
              "      <td>MF</td>\n",
              "      <td>Arsenal</td>\n",
              "      <td>25.0</td>\n",
              "      <td>1998.0</td>\n",
              "      <td>27.5</td>\n",
              "      <td>7.0</td>\n",
              "      <td>...</td>\n",
              "      <td>2.0</td>\n",
              "      <td>2.0</td>\n",
              "      <td>2.0</td>\n",
              "      <td>5.9</td>\n",
              "      <td>4.3</td>\n",
              "      <td>0.07</td>\n",
              "      <td>1.1</td>\n",
              "      <td>0.7</td>\n",
              "      <td>Matches</td>\n",
              "      <td>May</td>\n",
              "    </tr>\n",
              "  </tbody>\n",
              "</table>\n",
              "<p>584 rows × 28 columns</p>\n",
              "</div>\n",
              "    <div class=\"colab-df-buttons\">\n",
              "\n",
              "  <div class=\"colab-df-container\">\n",
              "    <button class=\"colab-df-convert\" onclick=\"convertToInteractive('df-71b8bac2-7168-4c4c-93e5-3d36bb3c4757')\"\n",
              "            title=\"Convert this dataframe to an interactive table.\"\n",
              "            style=\"display:none;\">\n",
              "\n",
              "  <svg xmlns=\"http://www.w3.org/2000/svg\" height=\"24px\" viewBox=\"0 -960 960 960\">\n",
              "    <path d=\"M120-120v-720h720v720H120Zm60-500h600v-160H180v160Zm220 220h160v-160H400v160Zm0 220h160v-160H400v160ZM180-400h160v-160H180v160Zm440 0h160v-160H620v160ZM180-180h160v-160H180v160Zm440 0h160v-160H620v160Z\"/>\n",
              "  </svg>\n",
              "    </button>\n",
              "\n",
              "  <style>\n",
              "    .colab-df-container {\n",
              "      display:flex;\n",
              "      gap: 12px;\n",
              "    }\n",
              "\n",
              "    .colab-df-convert {\n",
              "      background-color: #E8F0FE;\n",
              "      border: none;\n",
              "      border-radius: 50%;\n",
              "      cursor: pointer;\n",
              "      display: none;\n",
              "      fill: #1967D2;\n",
              "      height: 32px;\n",
              "      padding: 0 0 0 0;\n",
              "      width: 32px;\n",
              "    }\n",
              "\n",
              "    .colab-df-convert:hover {\n",
              "      background-color: #E2EBFA;\n",
              "      box-shadow: 0px 1px 2px rgba(60, 64, 67, 0.3), 0px 1px 3px 1px rgba(60, 64, 67, 0.15);\n",
              "      fill: #174EA6;\n",
              "    }\n",
              "\n",
              "    .colab-df-buttons div {\n",
              "      margin-bottom: 4px;\n",
              "    }\n",
              "\n",
              "    [theme=dark] .colab-df-convert {\n",
              "      background-color: #3B4455;\n",
              "      fill: #D2E3FC;\n",
              "    }\n",
              "\n",
              "    [theme=dark] .colab-df-convert:hover {\n",
              "      background-color: #434B5C;\n",
              "      box-shadow: 0px 1px 3px 1px rgba(0, 0, 0, 0.15);\n",
              "      filter: drop-shadow(0px 1px 2px rgba(0, 0, 0, 0.3));\n",
              "      fill: #FFFFFF;\n",
              "    }\n",
              "  </style>\n",
              "\n",
              "    <script>\n",
              "      const buttonEl =\n",
              "        document.querySelector('#df-71b8bac2-7168-4c4c-93e5-3d36bb3c4757 button.colab-df-convert');\n",
              "      buttonEl.style.display =\n",
              "        google.colab.kernel.accessAllowed ? 'block' : 'none';\n",
              "\n",
              "      async function convertToInteractive(key) {\n",
              "        const element = document.querySelector('#df-71b8bac2-7168-4c4c-93e5-3d36bb3c4757');\n",
              "        const dataTable =\n",
              "          await google.colab.kernel.invokeFunction('convertToInteractive',\n",
              "                                                    [key], {});\n",
              "        if (!dataTable) return;\n",
              "\n",
              "        const docLinkHtml = 'Like what you see? Visit the ' +\n",
              "          '<a target=\"_blank\" href=https://colab.research.google.com/notebooks/data_table.ipynb>data table notebook</a>'\n",
              "          + ' to learn more about interactive tables.';\n",
              "        element.innerHTML = '';\n",
              "        dataTable['output_type'] = 'display_data';\n",
              "        await google.colab.output.renderOutput(dataTable, element);\n",
              "        const docLink = document.createElement('div');\n",
              "        docLink.innerHTML = docLinkHtml;\n",
              "        element.appendChild(docLink);\n",
              "      }\n",
              "    </script>\n",
              "  </div>\n",
              "\n",
              "\n",
              "<div id=\"df-d297bbc5-0a0f-4730-abad-ccae40716d46\">\n",
              "  <button class=\"colab-df-quickchart\" onclick=\"quickchart('df-d297bbc5-0a0f-4730-abad-ccae40716d46')\"\n",
              "            title=\"Suggest charts\"\n",
              "            style=\"display:none;\">\n",
              "\n",
              "<svg xmlns=\"http://www.w3.org/2000/svg\" height=\"24px\"viewBox=\"0 0 24 24\"\n",
              "     width=\"24px\">\n",
              "    <g>\n",
              "        <path d=\"M19 3H5c-1.1 0-2 .9-2 2v14c0 1.1.9 2 2 2h14c1.1 0 2-.9 2-2V5c0-1.1-.9-2-2-2zM9 17H7v-7h2v7zm4 0h-2V7h2v10zm4 0h-2v-4h2v4z\"/>\n",
              "    </g>\n",
              "</svg>\n",
              "  </button>\n",
              "\n",
              "<style>\n",
              "  .colab-df-quickchart {\n",
              "      --bg-color: #E8F0FE;\n",
              "      --fill-color: #1967D2;\n",
              "      --hover-bg-color: #E2EBFA;\n",
              "      --hover-fill-color: #174EA6;\n",
              "      --disabled-fill-color: #AAA;\n",
              "      --disabled-bg-color: #DDD;\n",
              "  }\n",
              "\n",
              "  [theme=dark] .colab-df-quickchart {\n",
              "      --bg-color: #3B4455;\n",
              "      --fill-color: #D2E3FC;\n",
              "      --hover-bg-color: #434B5C;\n",
              "      --hover-fill-color: #FFFFFF;\n",
              "      --disabled-bg-color: #3B4455;\n",
              "      --disabled-fill-color: #666;\n",
              "  }\n",
              "\n",
              "  .colab-df-quickchart {\n",
              "    background-color: var(--bg-color);\n",
              "    border: none;\n",
              "    border-radius: 50%;\n",
              "    cursor: pointer;\n",
              "    display: none;\n",
              "    fill: var(--fill-color);\n",
              "    height: 32px;\n",
              "    padding: 0;\n",
              "    width: 32px;\n",
              "  }\n",
              "\n",
              "  .colab-df-quickchart:hover {\n",
              "    background-color: var(--hover-bg-color);\n",
              "    box-shadow: 0 1px 2px rgba(60, 64, 67, 0.3), 0 1px 3px 1px rgba(60, 64, 67, 0.15);\n",
              "    fill: var(--button-hover-fill-color);\n",
              "  }\n",
              "\n",
              "  .colab-df-quickchart-complete:disabled,\n",
              "  .colab-df-quickchart-complete:disabled:hover {\n",
              "    background-color: var(--disabled-bg-color);\n",
              "    fill: var(--disabled-fill-color);\n",
              "    box-shadow: none;\n",
              "  }\n",
              "\n",
              "  .colab-df-spinner {\n",
              "    border: 2px solid var(--fill-color);\n",
              "    border-color: transparent;\n",
              "    border-bottom-color: var(--fill-color);\n",
              "    animation:\n",
              "      spin 1s steps(1) infinite;\n",
              "  }\n",
              "\n",
              "  @keyframes spin {\n",
              "    0% {\n",
              "      border-color: transparent;\n",
              "      border-bottom-color: var(--fill-color);\n",
              "      border-left-color: var(--fill-color);\n",
              "    }\n",
              "    20% {\n",
              "      border-color: transparent;\n",
              "      border-left-color: var(--fill-color);\n",
              "      border-top-color: var(--fill-color);\n",
              "    }\n",
              "    30% {\n",
              "      border-color: transparent;\n",
              "      border-left-color: var(--fill-color);\n",
              "      border-top-color: var(--fill-color);\n",
              "      border-right-color: var(--fill-color);\n",
              "    }\n",
              "    40% {\n",
              "      border-color: transparent;\n",
              "      border-right-color: var(--fill-color);\n",
              "      border-top-color: var(--fill-color);\n",
              "    }\n",
              "    60% {\n",
              "      border-color: transparent;\n",
              "      border-right-color: var(--fill-color);\n",
              "    }\n",
              "    80% {\n",
              "      border-color: transparent;\n",
              "      border-right-color: var(--fill-color);\n",
              "      border-bottom-color: var(--fill-color);\n",
              "    }\n",
              "    90% {\n",
              "      border-color: transparent;\n",
              "      border-bottom-color: var(--fill-color);\n",
              "    }\n",
              "  }\n",
              "</style>\n",
              "\n",
              "  <script>\n",
              "    async function quickchart(key) {\n",
              "      const quickchartButtonEl =\n",
              "        document.querySelector('#' + key + ' button');\n",
              "      quickchartButtonEl.disabled = true;  // To prevent multiple clicks.\n",
              "      quickchartButtonEl.classList.add('colab-df-spinner');\n",
              "      try {\n",
              "        const charts = await google.colab.kernel.invokeFunction(\n",
              "            'suggestCharts', [key], {});\n",
              "      } catch (error) {\n",
              "        console.error('Error during call to suggestCharts:', error);\n",
              "      }\n",
              "      quickchartButtonEl.classList.remove('colab-df-spinner');\n",
              "      quickchartButtonEl.classList.add('colab-df-quickchart-complete');\n",
              "    }\n",
              "    (() => {\n",
              "      let quickchartButtonEl =\n",
              "        document.querySelector('#df-d297bbc5-0a0f-4730-abad-ccae40716d46 button');\n",
              "      quickchartButtonEl.style.display =\n",
              "        google.colab.kernel.accessAllowed ? 'block' : 'none';\n",
              "    })();\n",
              "  </script>\n",
              "</div>\n",
              "    </div>\n",
              "  </div>\n"
            ],
            "application/vnd.google.colaboratory.intrinsic+json": {
              "type": "dataframe",
              "variable_name": "df2"
            }
          },
          "metadata": {},
          "execution_count": 6
        }
      ]
    },
    {
      "cell_type": "code",
      "source": [
        "# Display first few rows of the dataframe\n",
        "print(df2.head())"
      ],
      "metadata": {
        "colab": {
          "base_uri": "https://localhost:8080/"
        },
        "id": "OKS40q4ibs7z",
        "outputId": "f833e70f-0f62-4a45-cbcb-e6be4ca1088b"
      },
      "execution_count": 7,
      "outputs": [
        {
          "output_type": "stream",
          "name": "stdout",
          "text": [
            "   Unnamed: 0 Rk              Player Nation    Pos          Squad   Age  \\\n",
            "0           0  1          Max Aarons    ENG     DF    Bournemouth  24.0   \n",
            "1           1  2  Bénie Adama Traore    CIV  FW,MF  Sheffield Utd  21.0   \n",
            "2           2  3         Tyler Adams    USA     MF    Bournemouth  25.0   \n",
            "3           3  4    Tosin Adarabioyo    ENG     DF         Fulham  26.0   \n",
            "4           4  5      Elijah Adebayo    ENG     FW     Luton Town  26.0   \n",
            "\n",
            "     Born   90s  Gls  ...   FK   PK  PKatt   xG  npxG  npxG/Sh  G-xG  np:G-xG  \\\n",
            "0  2000.0  12.1  0.0  ...  0.0  0.0    0.0  0.0   0.0     0.02   0.0      0.0   \n",
            "1  2002.0   4.3  0.0  ...  0.0  0.0    0.0  0.3   0.3     0.27  -0.3     -0.3   \n",
            "2  1999.0   1.2  0.0  ...  0.0  0.0    0.0  0.0   0.0      NaN   0.0      0.0   \n",
            "3  1997.0  16.0  2.0  ...  0.0  0.0    0.0  0.7   0.7     0.05   1.3      1.3   \n",
            "4  1998.0  12.9  9.0  ...  0.0  0.0    0.0  5.6   5.6     0.20   3.4      3.4   \n",
            "\n",
            "   Matches  Birth Month  \n",
            "0  Matches          May  \n",
            "1  Matches        April  \n",
            "2  Matches         July  \n",
            "3  Matches     February  \n",
            "4  Matches         June  \n",
            "\n",
            "[5 rows x 28 columns]\n"
          ]
        }
      ]
    },
    {
      "cell_type": "code",
      "source": [
        "# summary of the dataframe\n",
        "print(df2.info())"
      ],
      "metadata": {
        "colab": {
          "base_uri": "https://localhost:8080/"
        },
        "id": "ImzuZFkMbtEo",
        "outputId": "18eecd70-2070-4e1f-c3e9-dc5f4dc2850e"
      },
      "execution_count": 8,
      "outputs": [
        {
          "output_type": "stream",
          "name": "stdout",
          "text": [
            "<class 'pandas.core.frame.DataFrame'>\n",
            "RangeIndex: 584 entries, 0 to 583\n",
            "Data columns (total 28 columns):\n",
            " #   Column       Non-Null Count  Dtype  \n",
            "---  ------       --------------  -----  \n",
            " 0   Unnamed: 0   584 non-null    int64  \n",
            " 1   Rk           584 non-null    object \n",
            " 2   Player       584 non-null    object \n",
            " 3   Nation       584 non-null    object \n",
            " 4   Pos          584 non-null    object \n",
            " 5   Squad        584 non-null    object \n",
            " 6   Age          562 non-null    float64\n",
            " 7   Born         562 non-null    float64\n",
            " 8   90s          562 non-null    float64\n",
            " 9   Gls          562 non-null    float64\n",
            " 10  Sh           562 non-null    float64\n",
            " 11  SoT          562 non-null    float64\n",
            " 12  SoT%         457 non-null    float64\n",
            " 13  Sh/90        562 non-null    float64\n",
            " 14  SoT/90       562 non-null    float64\n",
            " 15  G/Sh         457 non-null    float64\n",
            " 16  G/SoT        395 non-null    float64\n",
            " 17  Dist         457 non-null    float64\n",
            " 18  FK           562 non-null    float64\n",
            " 19  PK           562 non-null    float64\n",
            " 20  PKatt        562 non-null    float64\n",
            " 21  xG           562 non-null    float64\n",
            " 22  npxG         562 non-null    float64\n",
            " 23  npxG/Sh      457 non-null    float64\n",
            " 24  G-xG         562 non-null    float64\n",
            " 25  np:G-xG      562 non-null    float64\n",
            " 26  Matches      584 non-null    object \n",
            " 27  Birth Month  562 non-null    object \n",
            "dtypes: float64(20), int64(1), object(7)\n",
            "memory usage: 127.9+ KB\n",
            "None\n"
          ]
        }
      ]
    },
    {
      "cell_type": "code",
      "source": [
        "#basic statistical details\n",
        "print(df2.describe())"
      ],
      "metadata": {
        "colab": {
          "base_uri": "https://localhost:8080/"
        },
        "id": "SP1UtcL3btMg",
        "outputId": "3e37a128-73b6-4a41-cb3b-df433b9fdf97"
      },
      "execution_count": 9,
      "outputs": [
        {
          "output_type": "stream",
          "name": "stdout",
          "text": [
            "       Unnamed: 0         Age         Born         90s         Gls  \\\n",
            "count  584.000000  562.000000   562.000000  562.000000  562.000000   \n",
            "mean   291.500000   25.770463  1997.519573   12.224555    1.734875   \n",
            "std    168.730554    4.360614     4.364883    9.444622    2.969691   \n",
            "min      0.000000   17.000000  1984.000000    0.000000    0.000000   \n",
            "25%    145.750000   22.000000  1994.000000    3.500000    0.000000   \n",
            "50%    291.500000   26.000000  1998.000000   11.300000    0.000000   \n",
            "75%    437.250000   29.000000  2001.000000   19.800000    2.000000   \n",
            "max    583.000000   39.000000  2007.000000   32.000000   19.000000   \n",
            "\n",
            "               Sh         SoT        SoT%       Sh/90      SoT/90  ...  \\\n",
            "count  562.000000  562.000000  457.000000  562.000000  562.000000  ...   \n",
            "mean    15.044484    5.088968   31.132166    1.399875    0.432242  ...   \n",
            "std     18.596374    7.175611   20.309767    2.056370    0.617645  ...   \n",
            "min      0.000000    0.000000    0.000000    0.000000    0.000000  ...   \n",
            "25%      2.000000    0.000000   20.000000    0.322500    0.000000  ...   \n",
            "50%      8.000000    2.000000   30.800000    0.925000    0.230000  ...   \n",
            "75%     22.000000    7.000000   41.200000    2.007500    0.667500  ...   \n",
            "max     99.000000   42.000000  100.000000   30.000000    7.500000  ...   \n",
            "\n",
            "            G/SoT        Dist          FK          PK       PKatt          xG  \\\n",
            "count  395.000000  457.000000  562.000000  562.000000  562.000000  562.000000   \n",
            "mean     0.294810   16.587309    0.412811    0.142349    0.158363    1.748577   \n",
            "std      0.274362    4.858932    1.465119    0.660325    0.715135    2.766119   \n",
            "min      0.000000    1.300000    0.000000    0.000000    0.000000    0.000000   \n",
            "25%      0.000000   12.700000    0.000000    0.000000    0.000000    0.100000   \n",
            "50%      0.280000   16.400000    0.000000    0.000000    0.000000    0.700000   \n",
            "75%      0.430000   19.900000    0.000000    0.000000    0.000000    2.100000   \n",
            "max      1.000000   32.900000   13.000000    8.000000    8.000000   21.800000   \n",
            "\n",
            "             npxG     npxG/Sh        G-xG     np:G-xG  \n",
            "count  562.000000  457.000000  562.000000  562.000000  \n",
            "mean     1.622954    0.101510   -0.013701   -0.030427  \n",
            "std      2.448454    0.073324    1.089624    1.068367  \n",
            "min      0.000000    0.010000   -5.900000   -6.100000  \n",
            "25%      0.100000    0.050000   -0.400000   -0.400000  \n",
            "50%      0.700000    0.090000    0.000000   -0.100000  \n",
            "75%      2.100000    0.130000    0.200000    0.200000  \n",
            "max     18.700000    0.960000    5.700000    5.500000  \n",
            "\n",
            "[8 rows x 21 columns]\n"
          ]
        }
      ]
    },
    {
      "cell_type": "code",
      "source": [
        "# Check for missing values\n",
        "print(\"Missing values per column:\")\n",
        "print(df2.isnull().sum())"
      ],
      "metadata": {
        "colab": {
          "base_uri": "https://localhost:8080/"
        },
        "id": "w5qdqBjFcTCO",
        "outputId": "27bf715a-7b69-4147-f9d1-829415a20ef6"
      },
      "execution_count": 10,
      "outputs": [
        {
          "output_type": "stream",
          "name": "stdout",
          "text": [
            "Missing values per column:\n",
            "Unnamed: 0       0\n",
            "Rk               0\n",
            "Player           0\n",
            "Nation           0\n",
            "Pos              0\n",
            "Squad            0\n",
            "Age             22\n",
            "Born            22\n",
            "90s             22\n",
            "Gls             22\n",
            "Sh              22\n",
            "SoT             22\n",
            "SoT%           127\n",
            "Sh/90           22\n",
            "SoT/90          22\n",
            "G/Sh           127\n",
            "G/SoT          189\n",
            "Dist           127\n",
            "FK              22\n",
            "PK              22\n",
            "PKatt           22\n",
            "xG              22\n",
            "npxG            22\n",
            "npxG/Sh        127\n",
            "G-xG            22\n",
            "np:G-xG         22\n",
            "Matches          0\n",
            "Birth Month     22\n",
            "dtype: int64\n"
          ]
        }
      ]
    },
    {
      "cell_type": "code",
      "source": [
        "# Drop rows with missing values\n",
        "df2.dropna(inplace=True)"
      ],
      "metadata": {
        "id": "rtm3wGyLcfpq"
      },
      "execution_count": 15,
      "outputs": []
    },
    {
      "cell_type": "code",
      "source": [
        "# Creating new columns for analysis\n",
        "# Shooting Efficiency: Goals per Shot\n",
        "df2['Shooting Efficiency'] = df2['Gls'] / df2['Sh']"
      ],
      "metadata": {
        "id": "Agkqabo9chqb"
      },
      "execution_count": 11,
      "outputs": []
    },
    {
      "cell_type": "code",
      "source": [
        "# Shot Difficulty: xG per Shot\n",
        "df2['Shot Difficulty'] = df2['xG'] / df2['Sh']"
      ],
      "metadata": {
        "id": "ehwfN-crcrCc"
      },
      "execution_count": 13,
      "outputs": []
    },
    {
      "cell_type": "code",
      "source": [
        "#Summary statistics\n",
        "summary_statistics = df2[['Gls', 'Sh', 'xG', 'Shooting Efficiency', 'Shot Difficulty']].describe()\n",
        "print(\"Summary Statistics:\\n\", summary_statistics)"
      ],
      "metadata": {
        "colab": {
          "base_uri": "https://localhost:8080/"
        },
        "id": "BFjhB1aOc9gD",
        "outputId": "9097fa4a-826a-448e-b32c-3bf3a63b2b22"
      },
      "execution_count": 16,
      "outputs": [
        {
          "output_type": "stream",
          "name": "stdout",
          "text": [
            "Summary Statistics:\n",
            "               Gls          Sh          xG  Shooting Efficiency  \\\n",
            "count  395.000000  395.000000  395.000000           395.000000   \n",
            "mean     2.468354   20.984810    2.455949             0.108304   \n",
            "std      3.277502   19.290322    3.032336             0.117156   \n",
            "min      0.000000    1.000000    0.000000             0.000000   \n",
            "25%      0.000000    7.000000    0.600000             0.000000   \n",
            "50%      1.000000   14.000000    1.300000             0.095238   \n",
            "75%      3.000000   31.000000    3.250000             0.166667   \n",
            "max     19.000000   99.000000   21.800000             1.000000   \n",
            "\n",
            "       Shot Difficulty  \n",
            "count       395.000000  \n",
            "mean          0.109453  \n",
            "std           0.075767  \n",
            "min           0.000000  \n",
            "25%           0.061905  \n",
            "50%           0.100000  \n",
            "75%           0.137500  \n",
            "max           1.000000  \n"
          ]
        }
      ]
    },
    {
      "cell_type": "code",
      "source": [
        "#Top players by shooting efficiency\n",
        "top_efficient_players = df2[df2['Sh'] > 10].sort_values(by='Shooting Efficiency', ascending=False).head(10)\n",
        "print(\"\\nTop Players by Shooting Efficiency:\\n\", top_efficient_players[['Player', 'Squad', 'Shooting Efficiency']])"
      ],
      "metadata": {
        "colab": {
          "base_uri": "https://localhost:8080/"
        },
        "id": "lygPHsDZc9in",
        "outputId": "c9bcee10-1aca-4e69-ecf7-b62d650d491d"
      },
      "execution_count": 18,
      "outputs": [
        {
          "output_type": "stream",
          "name": "stdout",
          "text": [
            "\n",
            "Top Players by Shooting Efficiency:\n",
            "                  Player            Squad  Shooting Efficiency\n",
            "572          Chris Wood  Nott'ham Forest             0.387097\n",
            "72         Ben Brereton    Sheffield Utd             0.363636\n",
            "4        Elijah Adebayo       Luton Town             0.321429\n",
            "469     Cristian Romero        Tottenham             0.307692\n",
            "250      Alexander Isak    Newcastle Utd             0.300000\n",
            "235      Hwang Hee-chan           Wolves             0.285714\n",
            "35        Taiwo Awoniyi  Nott'ham Forest             0.272727\n",
            "132  David Datro Fofana          Burnley             0.250000\n",
            "256      Mathias Jensen        Brentford             0.250000\n",
            "269          Diogo Jota        Liverpool             0.250000\n"
          ]
        }
      ]
    },
    {
      "cell_type": "code",
      "source": [
        "# Average shooting metrics by team\n",
        "team_shooting_stats = df2.groupby('Squad').agg({\n",
        "    'Gls': 'sum',\n",
        "    'Sh': 'sum',\n",
        "    'xG': 'sum',\n",
        "    'Shooting Efficiency': 'mean',\n",
        "    'Shot Difficulty': 'mean'\n",
        "}).sort_values(by='Shooting Efficiency', ascending=False)\n",
        "print(\"\\nTeam Shooting Statistics:\\n\", team_shooting_stats)"
      ],
      "metadata": {
        "colab": {
          "base_uri": "https://localhost:8080/"
        },
        "id": "V84NlskVc9lh",
        "outputId": "5f11210d-b122-4721-8023-bfb1190a04a1"
      },
      "execution_count": 19,
      "outputs": [
        {
          "output_type": "stream",
          "name": "stdout",
          "text": [
            "\n",
            "Team Shooting Statistics:\n",
            "                   Gls     Sh    xG  Shooting Efficiency  Shot Difficulty\n",
            "Squad                                                                   \n",
            "Manchester Utd   45.0  425.0  46.1             0.155360         0.104495\n",
            "Newcastle Utd    64.0  421.0  59.8             0.153358         0.125894\n",
            "Fulham           46.0  428.0  44.5             0.138309         0.153738\n",
            "Tottenham        60.0  474.0  54.9             0.136915         0.117488\n",
            "Aston Villa      63.0  445.0  56.4             0.127852         0.121156\n",
            "Arsenal          71.0  504.0  62.9             0.123311         0.114770\n",
            "Manchester City  70.0  551.0  63.7             0.122076         0.109008\n",
            "Brentford        44.0  397.0  52.1             0.121272         0.129338\n",
            "Chelsea          54.0  405.0  57.0             0.112309         0.112171\n",
            "Wolves           41.0  353.0  42.1             0.105714         0.116096\n",
            "Luton Town       42.0  365.0  38.7             0.103654         0.095349\n",
            "West Ham         51.0  374.0  45.5             0.102014         0.101983\n",
            "Nott'ham Forest  40.0  341.0  39.4             0.092718         0.100629\n",
            "Crystal Palace   36.0  322.0  33.7             0.089594         0.090093\n",
            "Liverpool        68.0  610.0  71.6             0.088393         0.091884\n",
            "Bournemouth      44.0  423.0  46.2             0.084683         0.101049\n",
            "Brighton         47.0  442.0  47.8             0.084002         0.092989\n",
            "Everton          32.0  420.0  47.9             0.076730         0.110258\n",
            "Burnley          31.0  325.0  30.9             0.075388         0.087137\n",
            "Sheffield Utd    26.0  264.0  28.9             0.064735         0.101947\n"
          ]
        }
      ]
    },
    {
      "cell_type": "code",
      "source": [
        "# Top performers in goals and shot difficulty\n",
        "top_goal_scorers = df2.sort_values(by='Gls', ascending=False).head(10)\n",
        "top_difficult_shots = df2.sort_values(by='Shot Difficulty', ascending=False).head(10)\n",
        "print(\"\\nTop Goal Scorers:\\n\", top_goal_scorers[['Player', 'Squad', 'Gls']])\n",
        "print(\"\\nTop Performers by Shot Difficulty:\\n\", top_difficult_shots[['Player', 'Squad', 'Shot Difficulty']])\n"
      ],
      "metadata": {
        "colab": {
          "base_uri": "https://localhost:8080/"
        },
        "id": "03_XjD9Kc9n8",
        "outputId": "657bc4d7-b45a-46a5-d5a2-dd938467a581"
      },
      "execution_count": 20,
      "outputs": [
        {
          "output_type": "stream",
          "name": "stdout",
          "text": [
            "\n",
            "Top Goal Scorers:\n",
            "               Player            Squad   Gls\n",
            "225   Erling Haaland  Manchester City  19.0\n",
            "558    Ollie Watkins      Aston Villa  18.0\n",
            "474    Mohamed Salah        Liverpool  17.0\n",
            "419      Cole Palmer          Chelsea  16.0\n",
            "502  Dominic Solanke      Bournemouth  16.0\n",
            "69      Jarrod Bowen         West Ham  15.0\n",
            "250   Alexander Isak    Newcastle Utd  15.0\n",
            "238    Son Heung-min        Tottenham  15.0\n",
            "190       Phil Foden  Manchester City  14.0\n",
            "473      Bukayo Saka          Arsenal  14.0\n",
            "\n",
            "Top Performers by Shot Difficulty:\n",
            "                  Player            Squad  Shot Difficulty\n",
            "447            Tim Ream           Fulham         1.000000\n",
            "42     Shandon Baptiste        Brentford         0.450000\n",
            "65           Oscar Bobb  Manchester City         0.350000\n",
            "138  Leander Dendoncker      Aston Villa         0.350000\n",
            "1    Bénie Adama Traore    Sheffield Utd         0.300000\n",
            "229         Luke Harris           Fulham         0.300000\n",
            "250      Alexander Isak    Newcastle Utd         0.288000\n",
            "339         Neal Maupay          Everton         0.280000\n",
            "274      Sasa Kalajdzic           Wolves         0.275000\n",
            "538      Destiny Udogie        Tottenham         0.266667\n"
          ]
        }
      ]
    },
    {
      "cell_type": "code",
      "source": [
        "import matplotlib.pyplot as plt\n",
        "import seaborn as sns"
      ],
      "metadata": {
        "id": "1inWWrj8dRns"
      },
      "execution_count": 21,
      "outputs": []
    },
    {
      "cell_type": "code",
      "source": [
        "#Histogram\n",
        "plt.figure(figsize=(12, 6))\n",
        "plt.subplot(1, 2, 1)\n",
        "sns.histplot(df2['Shooting Efficiency'].dropna(), bins=30, kde=True)\n",
        "plt.title('Histogram of Shooting Efficiency')"
      ],
      "metadata": {
        "colab": {
          "base_uri": "https://localhost:8080/",
          "height": 581
        },
        "id": "Frt54VPHdRq3",
        "outputId": "ddd6349e-2b08-452d-d10c-949f4047f711"
      },
      "execution_count": 22,
      "outputs": [
        {
          "output_type": "execute_result",
          "data": {
            "text/plain": [
              "Text(0.5, 1.0, 'Histogram of Shooting Efficiency')"
            ]
          },
          "metadata": {},
          "execution_count": 22
        },
        {
          "output_type": "display_data",
          "data": {
            "text/plain": [
              "<Figure size 1200x600 with 1 Axes>"
            ],
            "image/png": "[encoded data removed]"
          },
          "metadata": {}
        }
      ]
    },
    {
      "cell_type": "code",
      "source": [
        "#boxplot\n",
        "plt.subplot(1, 2, 2)\n",
        "sns.boxplot(x=df2['Shooting Efficiency'].dropna())\n",
        "plt.title('Box Plot of Shooting Efficiency')\n",
        "plt.show()"
      ],
      "metadata": {
        "colab": {
          "base_uri": "https://localhost:8080/",
          "height": 472
        },
        "id": "3fxxYYwjdRyI",
        "outputId": "2444c45c-4784-4d97-ed28-fbe8114fd123"
      },
      "execution_count": 23,
      "outputs": [
        {
          "output_type": "display_data",
          "data": {
            "text/plain": [
              "<Figure size 640x480 with 1 Axes>"
            ],
            "image/png": "[encoded data removed]"
          },
          "metadata": {}
        }
      ]
    },
    {
      "cell_type": "code",
      "source": [
        "#Scatter Plots\n",
        "plt.figure(figsize=(10, 5))\n",
        "sns.scatterplot(x='xG', y='Sh', data=df2)\n",
        "plt.title('Scatter Plot of Shots vs. xG')\n",
        "plt.xlabel('Expected Goals (xG)')\n",
        "plt.ylabel('Shots')\n",
        "plt.show()"
      ],
      "metadata": {
        "colab": {
          "base_uri": "https://localhost:8080/",
          "height": 487
        },
        "id": "-JCvWHENdR1h",
        "outputId": "75c9e2b4-540c-48a0-806d-e58816afd686"
      },
      "execution_count": 27,
      "outputs": [
        {
          "output_type": "display_data",
          "data": {
            "text/plain": [
              "<Figure size 1000x500 with 1 Axes>"
            ],
            "image/png": "[encoded data removed]"
          },
          "metadata": {}
        }
      ]
    },
    {
      "cell_type": "code",
      "source": [
        "# Aggregate goals by team\n",
        "team_goals = df2.groupby('Squad')['Gls'].sum().sort_values()"
      ],
      "metadata": {
        "id": "gTrRX-jddkQ6"
      },
      "execution_count": 29,
      "outputs": []
    },
    {
      "cell_type": "code",
      "source": [
        "# Creating a bar chart\n",
        "plt.figure(figsize=(12, 8))\n",
        "sns.barplot(x=team_goals.values, y=team_goals.index, hue=team_goals.index, palette='viridis', dodge=False)\n",
        "plt.legend([], frameon=False)\n",
        "plt.title('Total Goals by Team')\n",
        "plt.xlabel('Goals')\n",
        "plt.ylabel('Team')\n",
        "plt.show()\n"
      ],
      "metadata": {
        "colab": {
          "base_uri": "https://localhost:8080/",
          "height": 718
        },
        "id": "0vRbSC4Rdl0Y",
        "outputId": "adfbc15b-c62b-40d6-e3e6-92559e830575"
      },
      "execution_count": 30,
      "outputs": [
        {
          "output_type": "display_data",
          "data": {
            "text/plain": [
              "<Figure size 1200x800 with 1 Axes>"
            ],
            "image/png": "[encoded data removed]"
          },
          "metadata": {}
        }
      ]
    },
    {
      "cell_type": "code",
      "source": [
        "# Calculate the correlation matrix\n",
        "corr = df2[['Gls', 'Sh', 'xG']].corr()  # Ensure these columns exis"
      ],
      "metadata": {
        "id": "ii31ixMmdoH8"
      },
      "execution_count": 31,
      "outputs": []
    },
    {
      "cell_type": "code",
      "source": [
        "# Generate a heatmap\n",
        "plt.figure(figsize=(8, 6))\n",
        "sns.heatmap(corr, annot=True, fmt=\".2f\", cmap='coolwarm')\n",
        "plt.title('Correlation Matrix of Shooting Metrics')\n",
        "plt.show()\n",
        "\n",
        "plt.figure(figsize=(10, 6))\n",
        "sns.regplot(x='Sh', y='xG', data=df2, scatter_kws={'alpha':0.6}, line_kws={'color':'red'})\n",
        "plt.title('Relationship Between Shots and Expected Goals')\n",
        "plt.xlabel('Shots')\n",
        "plt.ylabel('Expected Goals')\n",
        "plt.show()"
      ],
      "metadata": {
        "colab": {
          "base_uri": "https://localhost:8080/",
          "height": 1000
        },
        "id": "WN1sDjIRdvqb",
        "outputId": "455f0014-3f88-4f43-faa7-117e1c899c25"
      },
      "execution_count": 33,
      "outputs": [
        {
          "output_type": "display_data",
          "data": {
            "text/plain": [
              "<Figure size 800x600 with 2 Axes>"
            ],
            "image/png": "[encoded data removed]"
          },
          "metadata": {}
        },
        {
          "output_type": "display_data",
          "data": {
            "text/plain": [
              "<Figure size 1000x600 with 1 Axes>"
            ],
            "image/png": "[encoded data removed]"
          },
          "metadata": {}
        }
      ]
    },
    {
      "cell_type": "code",
      "source": [
        "from statsmodels.formula.api import ols\n",
        "import statsmodels.api as sm"
      ],
      "metadata": {
        "id": "NFCSsJOKdyqC"
      },
      "execution_count": 34,
      "outputs": []
    },
    {
      "cell_type": "code",
      "source": [
        "# Simplify position data\n",
        "df2['Simple_Pos'] = df2['Pos'].apply(lambda x: x.split(',')[0])"
      ],
      "metadata": {
        "id": "RSNm7zKgd3Ra"
      },
      "execution_count": 35,
      "outputs": []
    },
    {
      "cell_type": "code",
      "source": [
        "# Conduct ANOVA using the corrected column name in the formula\n",
        "model = ols('Q(\"Shooting Efficiency\") ~ C(Simple_Pos)', data=df2).fit()\n",
        "anova_results = sm.stats.anova_lm(model, typ=2)\n",
        "\n",
        "print(anova_results)"
      ],
      "metadata": {
        "colab": {
          "base_uri": "https://localhost:8080/"
        },
        "id": "ZXNR8Wc9d6bK",
        "outputId": "13425663-5544-4c22-b89d-328586ab7bc8"
      },
      "execution_count": 43,
      "outputs": [
        {
          "output_type": "stream",
          "name": "stdout",
          "text": [
            "                 sum_sq     df         F    PR(>F)\n",
            "C(Simple_Pos)  0.174264    2.0  6.526271  0.001629\n",
            "Residual       5.233565  392.0       NaN       NaN\n"
          ]
        }
      ]
    },
    {
      "cell_type": "code",
      "source": [
        "!pip install scikit-learn\n",
        "!pip install numpy\n"
      ],
      "metadata": {
        "colab": {
          "base_uri": "https://localhost:8080/"
        },
        "id": "F9vDYDCQjCjK",
        "outputId": "930175c2-8220-4816-9794-3278ab3cceab"
      },
      "execution_count": 44,
      "outputs": [
        {
          "output_type": "stream",
          "name": "stdout",
          "text": [
            "Requirement already satisfied: scikit-learn in /usr/local/lib/python3.10/dist-packages (1.2.2)\n",
            "Requirement already satisfied: numpy>=1.17.3 in /usr/local/lib/python3.10/dist-packages (from scikit-learn) (1.25.2)\n",
            "Requirement already satisfied: scipy>=1.3.2 in /usr/local/lib/python3.10/dist-packages (from scikit-learn) (1.11.4)\n",
            "Requirement already satisfied: joblib>=1.1.1 in /usr/local/lib/python3.10/dist-packages (from scikit-learn) (1.4.0)\n",
            "Requirement already satisfied: threadpoolctl>=2.0.0 in /usr/local/lib/python3.10/dist-packages (from scikit-learn) (3.4.0)\n",
            "Requirement already satisfied: numpy in /usr/local/lib/python3.10/dist-packages (1.25.2)\n"
          ]
        }
      ]
    },
    {
      "cell_type": "code",
      "source": [
        "from sklearn.model_selection import train_test_split\n",
        "from sklearn.linear_model import LinearRegression, LogisticRegression\n",
        "from sklearn.metrics import mean_squared_error, accuracy_score, roc_auc_score\n",
        "from sklearn.preprocessing import OneHotEncoder\n",
        "from sklearn.compose import ColumnTransformer\n",
        "from sklearn.pipeline import Pipeline\n",
        "from sklearn.metrics import mean_squared_error\n",
        "\n"
      ],
      "metadata": {
        "id": "-KhSQ-vOd9NE"
      },
      "execution_count": 48,
      "outputs": []
    },
    {
      "cell_type": "code",
      "source": [
        "# Prepare target and features\n",
        "X = df2[['Age', '90s', 'Sh']]\n",
        "y_reg = df2['Shooting Efficiency']  # Regression target\n",
        "y_cls = (df2['Shooting Efficiency'] > 0.1).astype(int)  # Classification target"
      ],
      "metadata": {
        "id": "dHomx-KVd_l-"
      },
      "execution_count": 39,
      "outputs": []
    },
    {
      "cell_type": "code",
      "source": [
        "# Split data\n",
        "X_train, X_test, y_train_reg, y_test_reg, y_train_cls, y_test_cls = train_test_split(X, y_reg, y_cls, test_size=0.3, random_state=42)\n"
      ],
      "metadata": {
        "id": "rrzi62CJeCUe"
      },
      "execution_count": 40,
      "outputs": []
    },
    {
      "cell_type": "code",
      "source": [
        "# Regression model\n",
        "reg_model = Pipeline([\n",
        "    ('regressor', LinearRegression())\n",
        "])\n",
        "reg_model.fit(X_train, y_train_reg)\n",
        "y_pred_reg = reg_model.predict(X_test)\n"
      ],
      "metadata": {
        "id": "-VUnSBUNeHnk"
      },
      "execution_count": 47,
      "outputs": []
    },
    {
      "cell_type": "code",
      "source": [
        "y_pred_reg = reg_model.predict(X_test)"
      ],
      "metadata": {
        "id": "Xq0qPKfhj73N"
      },
      "execution_count": 49,
      "outputs": []
    },
    {
      "cell_type": "code",
      "source": [
        "rmse = mean_squared_error(y_test_reg, y_pred_reg, squared=False)"
      ],
      "metadata": {
        "id": "iSj_cbcVkAE_"
      },
      "execution_count": 50,
      "outputs": []
    },
    {
      "cell_type": "code",
      "source": [
        "# Regression RMSE\n",
        "print(\"Regression RMSE:\", rmse)\n"
      ],
      "metadata": {
        "colab": {
          "base_uri": "https://localhost:8080/"
        },
        "id": "Cxei3ky1eJih",
        "outputId": "6ce2d65e-836b-43a2-d3c1-6d533988de24"
      },
      "execution_count": 51,
      "outputs": [
        {
          "output_type": "stream",
          "name": "stdout",
          "text": [
            "Regression RMSE: 0.1134998819252\n"
          ]
        }
      ]
    },
    {
      "cell_type": "code",
      "source": [
        "# Classification model\n",
        "cls_model = Pipeline([\n",
        "    ('classifier', LogisticRegression())\n",
        "])\n",
        "cls_model.fit(X_train, y_train_cls)\n",
        "y_pred_cls = cls_model.predict(X_test)"
      ],
      "metadata": {
        "id": "oKzXLtcEeMlm"
      },
      "execution_count": 52,
      "outputs": []
    },
    {
      "cell_type": "code",
      "source": [
        "print(\"Classification Accuracy:\", accuracy_score(y_test_cls, y_pred_cls))\n",
        "print(\"Classification AUC:\", roc_auc_score(y_test_cls, cls_model.predict_proba(X_test)[:, 1]))"
      ],
      "metadata": {
        "colab": {
          "base_uri": "https://localhost:8080/"
        },
        "id": "8pjepv8meOjW",
        "outputId": "88708968-64b9-4b8c-c47d-784d48f586c7"
      },
      "execution_count": 53,
      "outputs": [
        {
          "output_type": "stream",
          "name": "stdout",
          "text": [
            "Classification Accuracy: 0.6050420168067226\n",
            "Classification AUC: 0.5440251572327044\n"
          ]
        }
      ]
    }
  ]
}